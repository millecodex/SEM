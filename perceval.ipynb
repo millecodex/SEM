{
 "cells": [
  {
   "cell_type": "code",
   "execution_count": null,
   "metadata": {
    "id": "eV5ol_4zO_8W"
   },
   "outputs": [],
   "source": [
    "# NOTES\n",
    "# if not running in local dev environment (perceval_venv / health-env):\n",
    "#\n",
    "# Install a pip package in the current Jupyter kernel\n",
    "# >import sys\n",
    "# >!{sys.executable} -m pip install grimoirelab\n",
    "#\n",
    "# Command line usage: \n",
    "# >!pip3 install grimoirelab\n",
    "# >!perceval git 'https://github.com/bitcoin/bitcoin.git' --from-date '2021-07-14'\n",
    "#\n",
    "# web tutorial: https://chaoss.github.io/grimoirelab-tutorial/perceval/git.html\n",
    "# perceval docs: https://perceval.readthedocs.io/en/latest/"
   ]
  },
  {
   "cell_type": "code",
   "execution_count": 5,
   "metadata": {
    "id": "ADNijzZ2HVH-"
   },
   "outputs": [],
   "source": [
    "#from perceval.backends.core.git import Git\n",
    "from datetime import datetime\n",
    "import dateutil.rrule\n",
    "import dateutil.tz\n",
    "import pandas as pd\n",
    "import numpy as np\n",
    "import matplotlib.pyplot as plt\n",
    "from matplotlib.ticker import StrMethodFormatter\n",
    "import seaborn as sns\n",
    "import time\n",
    "import csv\n",
    "\n",
    "# file I/O for running a colab notebook\n",
    "#from google.colab import files"
   ]
  },
  {
   "cell_type": "code",
   "execution_count": 19,
   "metadata": {
    "id": "6bZeolAt4EDy"
   },
   "outputs": [],
   "source": [
    "repo_btc = 'https://github.com/bitcoin/bitcoin.git'\n",
    "\n",
    "# urls for the git repo to analyze\n",
    "repos = [\n",
    "          [ 'bitcoin',     'https://github.com/bitcoin/bitcoin.git'],\n",
    "          [ 'go_ethereum', 'https://github.com/ethereum/go-ethereum.git'],\n",
    "          [ 'cardano',     'https://github.com/input-output-hk/cardano-node.git'],\n",
    "          [ 'polkadot',    'https://github.com/paritytech/polkadot.git'],\n",
    "          [ 'ripple',      'https://github.com/ripple/rippled.git'],\n",
    "          [ 'uniswap_v2',  'https://github.com/Uniswap/uniswap-v2-core.git'],\n",
    "          [ 'uniswap_v3',  'https://github.com/Uniswap/uniswap-v3-core.git'],\n",
    "          [ 'link',        'https://github.com/smartcontractkit/chainlink.git'],\n",
    "          [ 'stellar-core','https://github.com/stellar/stellar-core'],\n",
    "          [ 'dogecoin',    'https://github.com/dogecoin/dogecoin'],\n",
    "          [ 'filecoin',    'https://github.com/filecoin-project/lotus'],\n",
    "          [ 'substrate',   'https://github.com/paritytech/substrate'],\n",
    "          [ 'discord',     'https://github.com/discordjs/discord.js'],\n",
    "          [ 'apache-spark','https://github.com/apache/spark'],\n",
    "          [ 'rust',        'https://github.com/rust-lang/rust'],\n",
    "        ]\n",
    "repos2 = [\n",
    "          [ 'bitcoin',    'https://github.com/bitcoin/bitcoin.git'],\n",
    "          [ 'go_ethereum','https://github.com/ethereum/go-ethereum.git'],\n",
    "          [ 'dogecoin',    'https://github.com/dogecoin/dogecoin'],\n",
    "        ]\n",
    "\n",
    "\n",
    "#[ 'perceval',   'http://github.com/grimoirelab/perceval.git'],\n",
    "\n",
    "# complete date options\n",
    "# fromDate = datetime.datetime(2021, 7, 14, 0, 0, 0,tzinfo=dateutil.tz.tzutc())\n",
    "# fromDate = datetime.datetime(2018, 7, 1) # from is inclusive\n",
    "# toDate = datetime.datetime(2021, 6, 30)  # not sure if to is inc. or excl."
   ]
  },
  {
   "cell_type": "code",
   "execution_count": 2,
   "metadata": {
    "id": "kZtQzC_h4dfm"
   },
   "outputs": [],
   "source": [
    "def fetchTimezones(repoURL, repoName, from_Date, to_Date):\n",
    "    # directory for letting Perceval clone the git repo\n",
    "    # must be unique for the repo because it is reused\n",
    "    # Date format is 'YYYY,MM,DD'\n",
    "    dir_string = '/tmp/'+repoName+'.git'\n",
    "    repo_dir = dir_string\n",
    "\n",
    "    # create a Git object, pointing to repo_url: the github repo path\n",
    "    # and repo_dir: the local path for cloning\n",
    "    repo_object = Git(uri = repoURL, gitpath = repo_dir)\n",
    "    count = 0\n",
    "    noTZ = 0\n",
    "    #rawData = []\n",
    "    timeData = []\n",
    "    #res = 0\n",
    "    for commit in repo_object.fetch(from_date = from_Date, to_date = to_Date):\n",
    "        # handy for storing all data\n",
    "        #rawData.append(commit)\n",
    "        count += 1\n",
    "        # commit date is a string\n",
    "        time = commit['data']['CommitDate']\n",
    "        \n",
    "        # this is now an aware date object and can be universally sequenced\n",
    "        dateTimeObject = datetime.strptime(' '.join(time.split(' ')), '%a %b %d %H:%M:%S %Y %z')\n",
    "        \n",
    "        # convert to an offset in hours\n",
    "        offset = dateTimeObject.utcoffset().seconds // 3600\n",
    "        \n",
    "        # NZ is UTC+12 (ahead); +13 is also -11 geographically, or 13-24=-11 \n",
    "        # due to polar plotting all >12 shifted by -24, so:\n",
    "        # +12 -> -12: e.g NZ\n",
    "        # +13 -> -11: Tokelau, Samoa, Tonga (Midway, Niue are already -11)\n",
    "        # +14 -> -10: Christmas Island, Kiwibati  \n",
    "        # half-hour offsets are taken as the floor, e.g. India (+5.5) -> +5\n",
    "        if offset > 11:\n",
    "            offset = offset - 24\n",
    "        timeData.append(offset)\n",
    "        \n",
    "        if count % 1000 == 0:\n",
    "            print('.', end='')\n",
    "        \n",
    "    # stats\n",
    "    if count > 0: percentage = (noTZ/count)*100\n",
    "    else: percentage = 0\n",
    "    # maybe later write these to the header\n",
    "    # >check that 0.5 timezone offsets get binned\n",
    "    print('finished fetching data from:', repoName)\n",
    "    print('total commits counted:', count)\n",
    "    print('number with null timezone:', noTZ, '(', round(percentage, 1),'%)')\n",
    "\n",
    "    # return the list of timezone offsets\n",
    "    return timeData\n",
    "    #return rawData"
   ]
  },
  {
   "cell_type": "code",
   "execution_count": 71,
   "metadata": {},
   "outputs": [],
   "source": [
    "def fetchTimeZonesArray(repoURL, repoName, from_Date, to_Date):\n",
    "    # directory for letting Perceval clone the git repo\n",
    "    # must be unique for the repo because it is reused\n",
    "    # Date format is 'YYYY,MM,DD'\n",
    "    dir_string = '/tmp/'+repoName+'.git'\n",
    "    repo_dir = dir_string\n",
    "\n",
    "    # create a Git object, pointing to repo_url: the github repo path\n",
    "    # and repo_dir: the local path for cloning\n",
    "    repo_object = Git(uri = repoURL, gitpath = repo_dir)\n",
    "    count = 0\n",
    "    noTZ = 0\n",
    "    # timeData array(list) has 1 position for each timezone\n",
    "    timeData = [0] * 24\n",
    "    #res = 0\n",
    "    for commit in repo_object.fetch(from_date = from_Date, to_date = to_Date):\n",
    "        # handy for storing all data\n",
    "        #rawData.append(commit)\n",
    "        count += 1\n",
    "        # commit date is a string\n",
    "        time = commit['data']['CommitDate']\n",
    "        \n",
    "        # this is now an aware date object and can be universally sequenced\n",
    "        dateTimeObject = datetime.strptime(' '.join(time.split(' ')), '%a %b %d %H:%M:%S %Y %z')\n",
    "        \n",
    "        # convert to an offset in hours\n",
    "        offset = dateTimeObject.utcoffset().seconds // 3600\n",
    "        \n",
    "        # NZ is UTC+12 (ahead); +13 is also -11 geographically, or 13-24=-11 \n",
    "        # due to polar plotting all >12 shifted by -24, so:\n",
    "        # +12 -> -12: e.g NZ\n",
    "        # +13 -> -11: Tokelau, Samoa, Tonga (Midway, Niue are already -11)\n",
    "        # +14 -> -10: Christmas Island, Kiwibati  \n",
    "        # half-hour offsets are taken as the floor, e.g. India (+5.5) -> +5\n",
    "        if offset > 11:\n",
    "            offset = offset - 24\n",
    "        \n",
    "        # increment timeData[offset] counter\n",
    "        timeData[offset+12] += 1\n",
    "        \n",
    "        if count % 1000 == 0:\n",
    "            print('.', end='')\n",
    "        \n",
    "    # stats\n",
    "    if count > 0: percentage = (noTZ/count)*100\n",
    "    else: percentage = 0\n",
    "    # maybe later write these to the header\n",
    "    # >check that 0.5 timezone offsets get binned\n",
    "    print('finished fetching data from:', repoName)\n",
    "    print('total commits counted:', count)\n",
    "    if noTZ != 0: print('number with null timezone:', noTZ, '(', round(percentage, 1),'%)')\n",
    "\n",
    "    # return the list of timezone offsets\n",
    "    return timeData\n",
    "    #return rawData"
   ]
  },
  {
   "cell_type": "code",
   "execution_count": 67,
   "metadata": {},
   "outputs": [],
   "source": [
    "#timeData = [0] * 24\n",
    "#for i in range(24):\n",
    "    # You can add your timezone data for each index\n",
    "offset = 11\n",
    "for i in range(117):\n",
    "    timeData[offset+12] += 1\n",
    "    \n",
    "    "
   ]
  },
  {
   "cell_type": "code",
   "execution_count": 33,
   "metadata": {
    "id": "ECGeGhq5cAwp"
   },
   "outputs": [
    {
     "data": {
      "image/png": "[encoded data removed]",
      "text/plain": [
       "<Figure size 576x216 with 1 Axes>"
      ]
     },
     "metadata": {
      "needs_background": "light"
     },
     "output_type": "display_data"
    }
   ],
   "source": [
    "# required data is a list of timezone offsets of any length\n",
    "# offsets must be between -12 and +12 inclusive\n",
    "#\n",
    "# just for testing\n",
    "def plotUTCHistogram(data, month):\n",
    "    # offset by half unit so ticks are in the middle of the bar\n",
    "    bins = np.linspace(-11, 12, 24) -0.5\n",
    "    xticks = np.linspace(-11, 12, 24)\n",
    "    plt.figure(figsize=(8,3))\n",
    "    plot = plt.hist(data, bins = bins, rwidth = 0.9)\n",
    "    plt.ylim(0, 2500)\n",
    "    plt.xticks(xticks)\n",
    "    plt.xlabel(\"UTC offset\")\n",
    "    plt.ylabel(\"Commits\")\n",
    "    title = 'Geographic dispersion top 100 for ' + month\n",
    "    plt.title(title)\n",
    "    filename = 'month_histo_' + month\n",
    "    plt.savefig(filename, dpi = 300)\n",
    "    plt.show()\n",
    "    \n",
    "plotUTCHistogram(df1,'03-2021')"
   ]
  },
  {
   "cell_type": "code",
   "execution_count": 264,
   "metadata": {
    "id": "I0UpjzGFU09K"
   },
   "outputs": [],
   "source": [
    "# required data is a list of timezone offsets of any length\n",
    "# offsets must be between -12 and +11.5; [-12,12)\n",
    "# not tested as extentively as the Area plot\n",
    "def plotUTCPolarHistogram(data, \n",
    "                          repo, \n",
    "                          logR=None, \n",
    "                          writePlot=None, \n",
    "                          fromDate=None, \n",
    "                          toDate=None):\n",
    "    N = 24\n",
    "    plt.figure(figsize=(5,5))\n",
    "    bins = np.linspace(-12, 12, N+1)\n",
    "    # extract histogram counts in plot object\n",
    "    plot = plt.hist(data,bins=bins) \n",
    "   \n",
    "    #radius or magnitude values\n",
    "    r = plot[0]\n",
    "    # 24 hour bins (hour 24 is hour 0, or -12 = +12)\n",
    "    theta = np.linspace(-np.pi, np.pi, N, endpoint=False)\n",
    "    width = (1.8*np.pi) / N\n",
    "\n",
    "    ax = plt.subplot(111, polar=True)\n",
    "\n",
    "    # logR argument: for a log scale\n",
    "    if (logR == None) or (logR == False):\n",
    "        # DEFALT For a linear scale\n",
    "        # radial shift from centre as a proportion of the whole\n",
    "        bottom = max(plot[0])*0.35\n",
    "    elif logR == True:\n",
    "        bottom = 0.05\n",
    "\n",
    "    # have to offset radius by pi radians; no idea why\n",
    "    bars = ax.bar(theta + np.pi, r, width=width, bottom=bottom)   \n",
    "\n",
    "    # suppress the radial labels\n",
    "    plt.setp(ax.get_yticklabels(), visible=False)\n",
    "\n",
    "    # Set axes for a log scale\n",
    "    if logR == True:\n",
    "        ax.set_rmin(0.1)\n",
    "        ax.set_rscale('log')\n",
    "        \n",
    "    # Set the circumference labels\n",
    "    ax.set_xticks(np.linspace(0, 2*np.pi, 24, endpoint=False))\n",
    "    # custom labels\n",
    "    ax.set_xticklabels([r'$\\pm 12$', r'$-11$', r'$-10$', r'$-9$', r'$-8$', r'$-7$', r'$-6$', r'$-5$', r'$-4$', r'$-3$', r'$-2$', r'$-1$', r'UTC', r'$+1$', r'$+2$', r'$+3$', r'$+4$', r'$+5$', r'$+6$', r'$+7$', r'$+8$', r'$+9$', r'$+10$', r'$+11$'])    \n",
    "    # Make the labels go clockwise\n",
    "    ax.set_theta_direction(-1)       \n",
    "    # Place 0 at the top\n",
    "    ax.set_theta_offset(-np.pi/2)    \n",
    "    #ax.grid(False) #turn off grid lines\n",
    "    ax.grid(alpha=0.4) #fade grid lines   \n",
    "\n",
    "    # Use custom colors and opacity\n",
    "    for r, bar in zip(theta, bars):\n",
    "        bar.set_facecolor(plt.cm.jet(r / 10.))\n",
    "        bar.set_alpha(0.8)\n",
    "\n",
    "    # title \n",
    "    diff = toDate - fromDate\n",
    "    months = round((diff.days / 365 *12), 1)\n",
    "    title = repo + \\\n",
    "            ' Geographic Dispersion for ' + \\\n",
    "            str(months) + ' months to ' + \\\n",
    "            str(toDate.month) + '-' + str(toDate.year)\n",
    "    plt.title(title)\n",
    "\n",
    "    # output plot\n",
    "    if writePlot == True:\n",
    "        plotFilename = 'plots/' + 'polar_' + repo + '_' + \\\n",
    "        str(fromDate.month)+'-'+str(fromDate.year) + '_to_' + \\\n",
    "        str(toDate.month)+'-'+str(toDate.year) + '.png'\n",
    "        plt.savefig(plotFilename, facecolor='w', dpi = 300)\n",
    "    \n",
    "    #return plot"
   ]
  },
  {
   "cell_type": "code",
   "execution_count": 9,
   "metadata": {
    "id": "nWxT9Hh9VG5S"
   },
   "outputs": [],
   "source": [
    "# required data is a list of timezone offsets of any length\n",
    "# offsets must be between -12 and +11.5; [-12,12)\n",
    "def plotUTCPolarHistogramArea(data, \n",
    "                              repo, \n",
    "                              writePlot=None, \n",
    "                              magnitudeLabels=False, \n",
    "                              fromDate=None, \n",
    "                              toDate=None):\n",
    "    \n",
    "    # check data list - cannot contain +12, can only contain [-12,12)\n",
    "    # this is necessary for polar plotting purposes (data will still plot but be incorrect)\n",
    "    if max(data) >= 12:\n",
    "        raise Exception(\"data list contains UTC offsets >= +12, the acceptable range is [-12,12)\")\n",
    "    \n",
    "    # seaborn package formatting\n",
    "    sns.set_style(\"darkgrid\")\n",
    "    sns.set_context(\"paper\")\n",
    "    \n",
    "    plt.figure(figsize=(5,5))\n",
    "    \n",
    "    # right hand bin edge is included, i.e. [11,12] is the last bin\n",
    "    N = 24\n",
    "    bins = np.linspace(-12, 12, N+1)\n",
    "    # 24 hour bins (hour 24 is hour 0, or -12 = +12)\n",
    "    theta = np.linspace(-np.pi, np.pi, N, endpoint=False)\n",
    "    width = (1.8*np.pi) / N\n",
    "\n",
    "    ax = plt.subplot(111, polar=True)\n",
    "\n",
    "    # bin data for our polar histogram\n",
    "    counts, bin = np.histogram(data, bins=bins)\n",
    "\n",
    "    # for a donut centre\n",
    "    constRatio = largestCount = max(counts)/len(data)\n",
    "    # can't figure out a constant offset here...\n",
    "    ax.set_rorigin(-0.1)\n",
    "\n",
    "    # Normalise counts to compute areas\n",
    "    area = counts / len(data)\n",
    "    # Compute corresponding radii from areas\n",
    "    r = (area / np.pi)**.5\n",
    "    \n",
    "    # have to offset radius by pi radians; no idea why\n",
    "    bars = ax.bar(theta + np.pi, r, width=width)\n",
    "    \n",
    "    #\n",
    "    # have to sort out the y axis another day...\n",
    "    #\n",
    "    #peak = max(counts) / len(data)\n",
    "    #print('max count:',str(max(counts)),', len data: ',str(len(data)),' peak:',peak)\n",
    "    #y_pos = np.linspace(0, peak, 2, endpoint=False)\n",
    "    #ax.set_yticks(y_pos)\n",
    "    #ax.set_yticklabels([0, ax.get_rmax()])\n",
    "    #ylim=ax.get_ylim()\n",
    "    #rmax=ax.get_rmax()\n",
    "    #print('ylim: ',str(ylim),' rmax: ',str(rmax))\n",
    "        \n",
    "    # radial magnitude scale labels\n",
    "    if magnitudeLabels == False:\n",
    "        magnitude = False\n",
    "    else: magnitude = True\n",
    "    plt.setp(ax.get_yticklabels(), visible=magnitude)\n",
    "        \n",
    "    # Set the circumference labels\n",
    "    ax.set_xticks(np.linspace(0, 2*np.pi, 24, endpoint=False))      \n",
    "    # custom labels\n",
    "    ax.set_xticklabels([r'$\\pm 12$', r'$-11$', r'$-10$', r'$-9$', r'$-8$', r'$-7$', r'$-6$', r'$-5$', r'$-4$', r'$-3$', r'$-2$', r'$-1$', r'UTC', r'$+1$', r'$+2$', r'$+3$', r'$+4$', r'$+5$', r'$+6$', r'$+7$', r'$+8$', r'$+9$', r'$+10$', r'$+11$'])   \n",
    "    # Make the labels go clockwise\n",
    "    ax.set_theta_direction(-1)       \n",
    "    # Place 0 at the top\n",
    "    ax.set_theta_offset(-np.pi/2)   \n",
    "    #ax.grid(False) #turn off grid lines\n",
    "    #ax.grid(alpha=0.4) #fade grid lines   \n",
    "\n",
    "    # Use custom colors and opacity\n",
    "    for r, bar in zip(theta, bars):\n",
    "        bar.set_facecolor(plt.cm.jet(r / 10.))\n",
    "        bar.set_alpha(0.77)\n",
    "    \n",
    "    # title -- might not work without dates being passed\n",
    "    diff = toDate - fromDate\n",
    "    months = round((diff.days / 365 *12), 1)\n",
    "    title = repo + \\\n",
    "            ' Geographic Dispersion for ' + \\\n",
    "            str(months) + ' months to ' + \\\n",
    "            str(toDate.month) + '-' + str(toDate.year)\n",
    "    plt.title(title)\n",
    "\n",
    "    # output plot\n",
    "    if writePlot == True:\n",
    "        plotFilename = 'plots/' + 'polar_' + repo + '_' + \\\n",
    "            str(fromDate.month)+'-'+str(fromDate.year) + '_to_' + \\\n",
    "            str(toDate.month)+'-'+str(toDate.year) + '.png'\n",
    "        plt.savefig(plotFilename, facecolor='w', dpi = 300)\n",
    "    \n",
    "    # end plotUTCPolarHistogramArea method"
   ]
  },
  {
   "cell_type": "code",
   "execution_count": null,
   "metadata": {},
   "outputs": [],
   "source": [
    "# plot function call\n",
    "plotUTCPolarHistogramArea(sampleData, 'repoName', True, False, fromDate, toDate)"
   ]
  },
  {
   "cell_type": "code",
   "execution_count": null,
   "metadata": {
    "colab": {
     "base_uri": "https://localhost:8080/",
     "height": 1000
    },
    "id": "1uKIcq8DxgWR",
    "outputId": "7dae478c-5aa6-4734-a823-8eecb36006b9"
   },
   "outputs": [],
   "source": [
    "fromDate = datetime.datetime(2021, 7, 1) # from is inclusive\n",
    "toDate = datetime.datetime(2021, 7, 15)  # not sure if to is inc. or excl.\n",
    "\n",
    "# individual main loop\n",
    "# takes 21 minutes for the first time to clone all repos etc.\n",
    "# \n",
    "for project in repos:\n",
    "    repoName = project[0]\n",
    "    repoURL  = project[1]\n",
    "    data = fetchTimezones(repoURL, repoName, fromDate, toDate)\n",
    "    \n",
    "    # create plot object\n",
    "    #print(repoName, repoURL)\n",
    "    plotUTCPolarHistogramArea(data, repoName, True, False, fromDate, toDate)\n",
    "\n",
    "    # output data\n",
    "    dataFilename = repoName + '_tz_data.csv'\n",
    "    df = pd.DataFrame(data)\n",
    "    df.to_csv(dataFilename, encoding='utf-8', index=False)"
   ]
  },
  {
   "cell_type": "code",
   "execution_count": 95,
   "metadata": {},
   "outputs": [
    {
     "name": "stdout",
     "output_type": "stream",
     "text": [
      "Bitcoin https://github.com/bitcoin/bitcoin\n",
      "Ethereum https://github.com/ethereum/go-ethereum\n",
      "BNB https://github.com/bnb-chain/bsc\n",
      "USD Coin https://github.com/centrehq/centre-tokens\n",
      "XRP https://github.com/ripple/rippled\n",
      "Terra https://github.com/terra-project/core\n",
      "Cardano https://github.com/input-output-hk/cardano-node\n",
      "Solana https://github.com/solana-labs/solana\n",
      "Avalanche https://github.com/ava-labs/avalanchego\n",
      "Polkadot https://github.com/paritytech/polkadot\n"
     ]
    }
   ],
   "source": [
    "repos = pd.read_csv('subset100.csv')\n",
    "repo10 = repos[:10].copy()\n",
    "for index, row in repo10.iterrows():\n",
    "    repoName = row['name']\n",
    "    repoURL = row['url']\n",
    "    print(repoName, repoURL)\n"
   ]
  },
  {
   "cell_type": "code",
   "execution_count": 96,
   "metadata": {},
   "outputs": [
    {
     "data": {
      "text/html": [
       "<div>\n",
       "<style scoped>\n",
       "    .dataframe tbody tr th:only-of-type {\n",
       "        vertical-align: middle;\n",
       "    }\n",
       "\n",
       "    .dataframe tbody tr th {\n",
       "        vertical-align: top;\n",
       "    }\n",
       "\n",
       "    .dataframe thead th {\n",
       "        text-align: right;\n",
       "    }\n",
       "</style>\n",
       "<table border=\"1\" class=\"dataframe\">\n",
       "  <thead>\n",
       "    <tr style=\"text-align: right;\">\n",
       "      <th></th>\n",
       "      <th>name</th>\n",
       "      <th>url</th>\n",
       "    </tr>\n",
       "  </thead>\n",
       "  <tbody>\n",
       "    <tr>\n",
       "      <th>0</th>\n",
       "      <td>Bitcoin</td>\n",
       "      <td>https://github.com/bitcoin/bitcoin</td>\n",
       "    </tr>\n",
       "    <tr>\n",
       "      <th>1</th>\n",
       "      <td>Ethereum</td>\n",
       "      <td>https://github.com/ethereum/go-ethereum</td>\n",
       "    </tr>\n",
       "    <tr>\n",
       "      <th>2</th>\n",
       "      <td>BNB</td>\n",
       "      <td>https://github.com/bnb-chain/bsc</td>\n",
       "    </tr>\n",
       "    <tr>\n",
       "      <th>3</th>\n",
       "      <td>USD Coin</td>\n",
       "      <td>https://github.com/centrehq/centre-tokens</td>\n",
       "    </tr>\n",
       "    <tr>\n",
       "      <th>4</th>\n",
       "      <td>XRP</td>\n",
       "      <td>https://github.com/ripple/rippled</td>\n",
       "    </tr>\n",
       "    <tr>\n",
       "      <th>5</th>\n",
       "      <td>Terra</td>\n",
       "      <td>https://github.com/terra-project/core</td>\n",
       "    </tr>\n",
       "    <tr>\n",
       "      <th>6</th>\n",
       "      <td>Cardano</td>\n",
       "      <td>https://github.com/input-output-hk/cardano-node</td>\n",
       "    </tr>\n",
       "    <tr>\n",
       "      <th>7</th>\n",
       "      <td>Solana</td>\n",
       "      <td>https://github.com/solana-labs/solana</td>\n",
       "    </tr>\n",
       "    <tr>\n",
       "      <th>8</th>\n",
       "      <td>Avalanche</td>\n",
       "      <td>https://github.com/ava-labs/avalanchego</td>\n",
       "    </tr>\n",
       "    <tr>\n",
       "      <th>9</th>\n",
       "      <td>Polkadot</td>\n",
       "      <td>https://github.com/paritytech/polkadot</td>\n",
       "    </tr>\n",
       "  </tbody>\n",
       "</table>\n",
       "</div>"
      ],
      "text/plain": [
       "        name                                              url\n",
       "0    Bitcoin               https://github.com/bitcoin/bitcoin\n",
       "1   Ethereum          https://github.com/ethereum/go-ethereum\n",
       "2        BNB                 https://github.com/bnb-chain/bsc\n",
       "3   USD Coin        https://github.com/centrehq/centre-tokens\n",
       "4        XRP                https://github.com/ripple/rippled\n",
       "5      Terra            https://github.com/terra-project/core\n",
       "6    Cardano  https://github.com/input-output-hk/cardano-node\n",
       "7     Solana            https://github.com/solana-labs/solana\n",
       "8  Avalanche          https://github.com/ava-labs/avalanchego\n",
       "9   Polkadot           https://github.com/paritytech/polkadot"
      ]
     },
     "execution_count": 96,
     "metadata": {},
     "output_type": "execute_result"
    }
   ],
   "source": [
    "repo10"
   ]
  },
  {
   "cell_type": "code",
   "execution_count": null,
   "metadata": {
    "colab": {
     "base_uri": "https://localhost:8080/",
     "height": 1000
    },
    "id": "1uKIcq8DxgWR",
    "outputId": "7dae478c-5aa6-4734-a823-8eecb36006b9"
   },
   "outputs": [],
   "source": [
    "#reposT = [\n",
    "#          [ 'bitcoin',    'https://github.com/bitcoin/bitcoin.git'],\n",
    "#          [ 'go_ethereum','https://github.com/ethereum/go-ethereum.git'],\n",
    "#          [ 'dogecoin',    'https://github.com/dogecoin/dogecoin'],\n",
    "#         ]\n",
    "\n",
    "fromDate = datetime(2021, 6, 1) # from is inclusive\n",
    "toDate = datetime(2021, 7, 15)  # to is exclusive\n",
    "    \n",
    "# cumulative main loop\n",
    "# make a default df\n",
    "allData = pd.DataFrame()\n",
    "#total = pd.DataFrame()\n",
    "\n",
    "for index, row in repo10.iterrows():\n",
    "    repoName = row['name']\n",
    "    print('repoName: '+repoName)\n",
    "    repoURL = row['url']\n",
    "    data = fetchTimeZonesArray(repoURL, repoName, fromDate, toDate) \n",
    "\n",
    "    # concatenate data\n",
    "    df = pd.DataFrame(data)\n",
    "    #total = total.append(df, ignore_index = True)\n",
    "    df.columns = [repoName]\n",
    "    allData = pd.concat([allData, df], axis=1)\n",
    "    \n",
    "# create plot object // doesn't work with fetchTimeZonesArray() method\n",
    "# plotUTCPolarHistogramArea(data, repoName, True, False, fromDate, toDate)"
   ]
  },
  {
   "cell_type": "code",
   "execution_count": null,
   "metadata": {},
   "outputs": [],
   "source": [
    "# potentially usefull stuffs\n",
    "df['avg'] = df.mean(axis=1)\n",
    "dfnorm.fillna(0, inplace=True)\n",
    "df = df.drop(columns=['sum_norm'])\n",
    "print(df['Wrapped Bitcoin'])\n",
    "\n",
    "# replace any NaN values\n",
    "dfnorm.fillna(0, inplace=True)\n",
    "\n",
    "# these are the same calculation and produce the same results\n",
    "df = df.assign(sum_norm = lambda x: (x[\"sum\"] - x[\"sum\"].min()) / (x[\"sum\"].max() - x[\"sum\"].min()))\n",
    "df = df.assign(avg_norm = lambda x: (x[\"avg\"] - x[\"avg\"].min()) / (x[\"avg\"].max() - x[\"avg\"].min()))"
   ]
  },
  {
   "cell_type": "code",
   "execution_count": 68,
   "metadata": {},
   "outputs": [],
   "source": [
    "#-------------------------------------------\n",
    "# Calculate TimeZone baseline and apply to all projects\n",
    "#-------------------------------------------\n",
    "# RMSD or RMSE seems like a good candidate\n",
    "# from wikipedia https://en.wikipedia.org/wiki/Root-mean-square_deviation\n",
    "# In imaging science, the RMSD is part of the peak signal-to-noise ratio, a measure used to assess how well a method to reconstruct an image performs relative to the original image.\n",
    "from sklearn.metrics import mean_squared_error\n",
    "from sklearn.metrics import mean_absolute_error\n",
    "from scipy.stats import pearsonr\n",
    "\n",
    "#-------------------------------------------\n",
    "# average of top 100\n",
    "#-------------------------------------------\n",
    "df1 = pd.read_csv('allData100.csv')\n",
    "\n",
    "# exclude zero-commit projects\n",
    "df1 = df1.loc[:, (df1 != 0).any(axis=0)]\n",
    "\n",
    "# find average\n",
    "df1['avg'] = df1.mean(axis=1)\n",
    "\n",
    "# normalize. This is the column to use for comparison\n",
    "df1 = df1.assign(avg_norm = lambda x: (x[\"avg\"] - x[\"avg\"].min()) / (x[\"avg\"].max() - x[\"avg\"].min()))\n",
    "\n",
    "#-------------------------------------------\n",
    "# calculate RMSE for top 600\n",
    "#-------------------------------------------\n",
    "\n",
    "# read in raw timezone data\n",
    "df6 = pd.read_csv('allData600.csv')\n",
    "\n",
    "# create normalized dataframe\n",
    "dfnorm = (df6 - df6.min()) / (df6.max() - df6.min())\n",
    "\n",
    "# replace any NaN values\n",
    "dfnorm.fillna(0, inplace=True)\n",
    "\n",
    "# temp df\n",
    "results_df = pd.DataFrame(columns=[\"url\", \"rmse\", \"mae\"])\n",
    "\n",
    "for column in dfnorm.columns:\n",
    "    if column != \"avg_norm\": #exclude the normalized column\n",
    "        # pearson\n",
    "        #correlation, _ = pearsonr(df[\"avg_norm\"], df[column])\n",
    "        rmse = mean_squared_error(df1[\"avg_norm\"], dfnorm[column])**0.5\n",
    "        mae = mean_absolute_error(df1[\"avg_norm\"], dfnorm[column])\n",
    "        #print(\"{:<25} {:<25} {:<25}\".format(column, rmse, mae))\n",
    "       \n",
    "        # Append the results to the DataFrame\n",
    "        temp_df = pd.DataFrame({\"url\": [column], \"rmse\": [rmse], \"mae\": [mae]})\n",
    "        results_df = pd.concat([results_df, temp_df], ignore_index=True)\n",
    "\n",
    "# write out        \n",
    "results_df.to_csv(\"geo600.csv\", index=False)\n",
    "# merged dataframes (manually check in excel; need to remove 'url' column)\n",
    "df1 = pd.read_csv('geo600.csv')\n",
    "dfm = pd.read_csv('merged_updated_20-Jan-2023.csv')\n",
    "merged_df = pd.merge(dfm, df1, left_on='source_code', right_on='url', how='left')"
   ]
  },
  {
   "cell_type": "code",
   "execution_count": 70,
   "metadata": {},
   "outputs": [],
   "source": [
    "df1['avg_norm'].to_csv(\"avg_norm_data.csv\", index=False)"
   ]
  },
  {
   "cell_type": "code",
   "execution_count": 200,
   "metadata": {},
   "outputs": [
    {
     "data": {
      "image/png": "[encoded data removed]",
      "text/plain": [
       "<Figure size 360x360 with 1 Axes>"
      ]
     },
     "metadata": {},
     "output_type": "display_data"
    }
   ],
   "source": [
    "fromDate = datetime(2021, 3, 1) # from is inclusive\n",
    "toDate = datetime(2021, 3, 28)  # to is exclusive.\n",
    "plotUTCPolarHistogramArea(total, 'Top 100', False, True, fromDate, toDate)\n"
   ]
  },
  {
   "cell_type": "code",
   "execution_count": 198,
   "metadata": {},
   "outputs": [
    {
     "data": {
      "image/png": "[encoded data removed]",
      "text/plain": [
       "<Figure size 576x216 with 1 Axes>"
      ]
     },
     "metadata": {},
     "output_type": "display_data"
    }
   ],
   "source": [
    "plotUTCHistogram(total)"
   ]
  },
  {
   "cell_type": "code",
   "execution_count": null,
   "metadata": {
    "id": "T1e1kuyXhNMN"
   },
   "outputs": [],
   "source": [
    "# useful for testing or traditional viewpoint, includes scale\n",
    "for column in allData:\n",
    "    plotUTCHistogram(allData[column])"
   ]
  },
  {
   "cell_type": "code",
   "execution_count": 63,
   "metadata": {},
   "outputs": [
    {
     "name": "stdout",
     "output_type": "stream",
     "text": [
      "Bitcoin, https://github.com/bitcoin/bitcoin\n",
      "Ethereum, https://github.com/ethereum/go-ethereum\n"
     ]
    }
   ],
   "source": [
    "for row in subset2.itertuples():\n",
    "    repoName = row[0]\n",
    "    repoURL  = row[1]\n",
    "  "
   ]
  },
  {
   "cell_type": "code",
   "execution_count": 213,
   "metadata": {},
   "outputs": [],
   "source": [
    "# take a subset of top 100 crypto repos by rank\n",
    "# get commit data for 1 month: April 2022 and take the aggregate view\n",
    "# work backwards for monthly view to see if its changing\n",
    "subset100 = pd.read_csv('subset100.csv', index_col=0)"
   ]
  },
  {
   "cell_type": "code",
   "execution_count": 224,
   "metadata": {},
   "outputs": [],
   "source": [
    "# fromDate = datetime(2022, 3, 1) # from is inclusive\n",
    "# toDate = datetime(2022, 3, 28)  # to is exclusive.\n",
    "\n",
    "# cumulative main loop\n",
    "# concatenated for baseline\n",
    "# make a default df\n",
    "\n",
    "def getTimeZoneMonth(month, year):\n",
    "    fromDate = datetime(year, month, 1) # from is inclusive\n",
    "    if month == 12:\n",
    "        toDate = datetime(year+1, (month+1)%12, 1)  # to is exclusive.\n",
    "    else: \n",
    "        toDate = datetime(year, month+1, 1)\n",
    "        \n",
    "    allData = pd.DataFrame()\n",
    "    total = pd.DataFrame()\n",
    "    start = datetime.now()\n",
    "    for row in subset100.itertuples():\n",
    "        repoName = row[0]\n",
    "        print('Repo Name: '+repoName)\n",
    "        repoURL  = row[1]\n",
    "\n",
    "        # go to Perceval to fetch the data\n",
    "        data = fetchTimezones(repoURL, repoName, fromDate, toDate) \n",
    "        df = pd.DataFrame(data) \n",
    "        total = total.append(df, ignore_index = True)\n",
    "\n",
    "        # most of time there is commit data (non-empty)\n",
    "        if not df.empty:    \n",
    "            df.columns = [repoName]\n",
    "        else:\n",
    "            # catch the case of no data (empty df) being returned\n",
    "            # need to add an empty column with proper name\n",
    "            df = pd.DataFrame(data=None, columns=[repoName])\n",
    "\n",
    "        allData = pd.concat([allData, df], axis=1, sort=False)\n",
    "\n",
    "    # some log info\n",
    "    # now = datetime.now()\n",
    "    # elapsed = (now - start).total_seconds() / 60\n",
    "    # output = 'Query took ' + str(round(elapsed,2)) + ' minutes.'\n",
    "    # print('\\n' + output)\n",
    "\n",
    "    # this is the cumulative dataframe to deduce a standard\n",
    "    # total.info()\n",
    "    totalOut = str(year)+'-'+str(month)+'-total.csv'\n",
    "    total.to_csv(totalOut, index=False, encoding='utf-8')\n",
    "\n",
    "    # is is the individual repos in a dataframe\n",
    "    # allData.info()\n",
    "    allDataOut = str(year)+'-'+str(month)+'-repos.csv'\n",
    "    allData.to_csv(allDataOut, index=False, encoding='utf-8')"
   ]
  },
  {
   "cell_type": "code",
   "execution_count": null,
   "metadata": {},
   "outputs": [],
   "source": [
    "getTimeZoneMonth(12, 2021)\n",
    "getTimeZoneMonth(1, 2022)\n",
    "getTimeZoneMonth(2, 2022)\n",
    "getTimeZoneMonth(3, 2022)"
   ]
  },
  {
   "cell_type": "code",
   "execution_count": 22,
   "metadata": {},
   "outputs": [],
   "source": [
    "df1 = pd.read_csv('2021-3-total.csv')\n",
    "df2 = pd.read_csv('2021-4-total.csv')\n",
    "df3 = pd.read_csv('2021-5-total.csv')\n",
    "df4 = pd.read_csv('2021-6-total.csv')\n",
    "df5 = pd.read_csv('2021-7-total.csv')\n",
    "df6 = pd.read_csv('2021-8-total.csv')\n",
    "df7 = pd.read_csv('2021-9-total.csv')\n",
    "df8 = pd.read_csv('2021-10-total.csv')\n",
    "df9 = pd.read_csv('2021-11-total.csv')\n",
    "df10 = pd.read_csv('2021-12-total.csv')\n",
    "df11 = pd.read_csv('2022-1-total.csv')\n",
    "df12 = pd.read_csv('2022-2-total.csv')"
   ]
  },
  {
   "cell_type": "code",
   "execution_count": null,
   "metadata": {},
   "outputs": [],
   "source": [
    "plotUTCHistogram(df1,'03-2021')\n",
    "plotUTCHistogram(df2,'04-2021')\n",
    "plotUTCHistogram(df3,'05-2021')\n",
    "plotUTCHistogram(df4,'06-2021')\n",
    "plotUTCHistogram(df5,'07-2021')\n",
    "plotUTCHistogram(df6,'08-2021')\n",
    "plotUTCHistogram(df7,'09-2021')\n",
    "plotUTCHistogram(df8,'10-2021')\n",
    "plotUTCHistogram(df9,'11-2021')\n",
    "plotUTCHistogram(df10,'12-2021')\n",
    "plotUTCHistogram(df11,'01-2022')\n",
    "plotUTCHistogram(df12,'02-2022')"
   ]
  },
  {
   "cell_type": "code",
   "execution_count": 72,
   "metadata": {
    "colab": {
     "base_uri": "https://localhost:8080/"
    },
    "id": "9xe2-TTmBnzk",
    "outputId": "5c81593c-1b4c-408f-bb96-8bad574924c8"
   },
   "outputs": [
    {
     "name": "stdout",
     "output_type": "stream",
     "text": [
      "finished fetching data from: Syntropy\n",
      "total commits counted: 433\n"
     ]
    }
   ],
   "source": [
    "# test cell // used to use datetime.datetime()\n",
    "fromDate = datetime(2020, 1, 1) # from is inclusive\n",
    "toDate = datetime(2021, 7, 1)  # to is exclusive.\n",
    "#data = fetchTimezones('https://github.com/bitcoin/bitcoin.git', 'bitcoin', fromDate, toDate)\n",
    "data = fetchTimeZonesArray('https://github.com/SyntropyNet/syntropy-agent.git', 'Syntropy', fromDate, toDate)\n",
    "#data = fetchTimezones('https://github.com/ethereum/go-ethereum.git', 'go-eth', fromDate, toDate)\n",
    "#data = fetchTimezones('https://github.com/rust-lang/rust.git', 'Rust', fromDate, toDate)\n",
    "#plotUTCPolarHistogram(data, 'go_ethereum')\n",
    "#data = fetchTimezones('https://github.com/rust-lang/rust', 'rust', fromDate, toDate)\n",
    "#data = fetchTimezones('https://github.com/input-output-hk/cardano-node.git', 'cardano', fromDate, toDate)"
   ]
  },
  {
   "cell_type": "code",
   "execution_count": 24,
   "metadata": {
    "colab": {
     "base_uri": "https://localhost:8080/"
    },
    "id": "9xe2-TTmBnzk",
    "outputId": "5c81593c-1b4c-408f-bb96-8bad574924c8"
   },
   "outputs": [
    {
     "data": {
      "image/png": "[encoded data removed]",
      "text/plain": [
       "<Figure size 360x360 with 1 Axes>"
      ]
     },
     "metadata": {},
     "output_type": "display_data"
    }
   ],
   "source": [
    "plotUTCPolarHistogramArea(data, 'eth', True, False, fromDate, toDate)"
   ]
  }
 ],
 "metadata": {
  "colab": {
   "collapsed_sections": [],
   "history_visible": true,
   "name": "perceval.ipynb",
   "provenance": []
  },
  "kernelspec": {
   "display_name": "Python 3 (ipykernel)",
   "language": "python",
   "name": "python3"
  },
  "language_info": {
   "codemirror_mode": {
    "name": "ipython",
    "version": 3
   },
   "file_extension": ".py",
   "mimetype": "text/x-python",
   "name": "python",
   "nbconvert_exporter": "python",
   "pygments_lexer": "ipython3",
   "version": "3.10.6"
  }
 },
 "nbformat": 4,
 "nbformat_minor": 4
}
