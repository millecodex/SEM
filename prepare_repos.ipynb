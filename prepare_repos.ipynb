{
 "cells": [
  {
   "cell_type": "code",
   "execution_count": null,
   "metadata": {},
   "outputs": [],
   "source": [
    "'''\n",
    "P R E P A R E   R E P O S\n",
    "This starts with the CSV from coin market cap that has been manually \n",
    "updated for source code repositories and extracts the forge and repo \n",
    "information.\n",
    "The udpated dataframe is written out as a csv as an intermdiate backup\n",
    "step.\n",
    "'''"
   ]
  },
  {
   "cell_type": "code",
   "execution_count": 4,
   "metadata": {},
   "outputs": [],
   "source": [
    "import pandas as pd\n",
    "# not yet needed here\n",
    "import time\n",
    "import math"
   ]
  },
  {
   "cell_type": "code",
   "execution_count": 11,
   "metadata": {},
   "outputs": [],
   "source": [
    "# Read CSV file into DataFrame df\n",
    "df = pd.read_csv('CMCdata_200.csv', index_col=0)"
   ]
  },
  {
   "cell_type": "code",
   "execution_count": 256,
   "metadata": {},
   "outputs": [],
   "source": [
    "# subset dataframes for testing\n",
    "# use .copy() as slicing will not allow for assignment\n",
    "dfss = df.iloc[:10].copy()\n",
    "dfs = df.iloc[100:150].copy()"
   ]
  },
  {
   "cell_type": "code",
   "execution_count": 10,
   "metadata": {},
   "outputs": [],
   "source": [
    "# check 'source_code' column for tailing forwardslash & remove\n",
    "def findSlash(string):\n",
    "    # type check\n",
    "    if type(string) == str:\n",
    "        # trim slash\n",
    "        if string[-1] == '/':\n",
    "            return string[:-1]\n",
    "        else:\n",
    "            return string\n",
    "    else:\n",
    "        return 'none'\n",
    "        \n",
    "# findRepo takes the SourceCode string and strips the domain\n",
    "# this can be useful for querying GitHub databases\n",
    "# pandas imports empty cells as NaN, must type check this\n",
    "def findRepo(string):\n",
    "    # type check\n",
    "    if type(string) == str:\n",
    "        if string.find('github') > 0 or string.find('gitlab') > 0:\n",
    "            return string[19:]\n",
    "        elif string.find('bitbucket') > 0:\n",
    "            return string[22:]\n",
    "        elif string=='private':\n",
    "            return ''\n",
    "        else:\n",
    "            # presumably some other URL\n",
    "            return string[8:]\n",
    "    # catch non-str types\n",
    "    else:\n",
    "        return 'none'\n",
    "\n",
    "# extract the host from the SourceCode string\n",
    "# only really interested in GitHub and GitLab\n",
    "# data cannot be obtained from private or missing Forges\n",
    "# pandas imports empty cells as NaN, must type check this\n",
    "def findForge(string):\n",
    "  # type check\n",
    "  if type(string) == float:\n",
    "    return 'none'\n",
    "  elif string.find('github') > 0:\n",
    "    return 'github'\n",
    "  elif string.find('gitlab') > 0:\n",
    "    return 'gitlab'\n",
    "  elif string.find('bitbucket') > 0:\n",
    "    return 'bitbucket'\n",
    "  elif string=='private':\n",
    "    return string\n",
    "  else:\n",
    "    return 'other'"
   ]
  },
  {
   "cell_type": "code",
   "execution_count": null,
   "metadata": {},
   "outputs": [],
   "source": [
    "# strings for testing\n",
    "s1='https://github.com/bitcoin/bitcoin'\n",
    "s2='private'\n",
    "s3='https://cardanoupdates.com/'\n",
    "s4='https://github.com/WrappedBTC/bitcoin-token-smart-contracts'\n",
    "s5='https://gitlab.com/NebulousLabs/Sia'\n",
    "s6\n",
    "s7=''\n",
    "s8='https://bitbucket.com/chromawallet'\n",
    "findForge(s6)"
   ]
  },
  {
   "cell_type": "code",
   "execution_count": 12,
   "metadata": {},
   "outputs": [],
   "source": [
    "# check 'source_code' column for tailing forwardslash & remove\n",
    "df['source_code']=df['source_code'].apply(findSlash)\n",
    "# extract repo and forge info into new columns\n",
    "df['repo']=df['source_code'].apply(findRepo)\n",
    "df['forge']=df['source_code'].apply(findForge)"
   ]
  },
  {
   "cell_type": "code",
   "execution_count": 13,
   "metadata": {},
   "outputs": [],
   "source": [
    "# write back to new csv\n",
    "# not sure if I need encoding parameter\n",
    "# note that pd.read_csv('CMCdata_200.csv', index_col=0) has index\n",
    "df.to_csv('200_repos_ready.csv', encoding='utf-8', index=False)"
   ]
  }
 ],
 "metadata": {
  "kernelspec": {
   "display_name": "Python 3",
   "language": "python",
   "name": "python3"
  },
  "language_info": {
   "codemirror_mode": {
    "name": "ipython",
    "version": 3
   },
   "file_extension": ".py",
   "mimetype": "text/x-python",
   "name": "python",
   "nbconvert_exporter": "python",
   "pygments_lexer": "ipython3",
   "version": "3.8.5"
  }
 },
 "nbformat": 4,
 "nbformat_minor": 4
}
