{
 "cells": [
  {
   "cell_type": "code",
   "execution_count": null,
   "metadata": {},
   "outputs": [],
   "source": [
    "'''\n",
    "P R E P A R E   R E P O S\n",
    "This starts with 'cmc_data_200_man.csv' has been manually \n",
    "updated and merged and extracts the forge and repo information.\n",
    "\n",
    "Prerequisite:\n",
    ">> CMC_API.py\n",
    " 1. Manually updated source code repos in cmc_data_200_man.csv\n",
    " 2. fetch top 200 from CMC and merge\n",
    ">> \n",
    "'''"
   ]
  },
  {
   "cell_type": "code",
   "execution_count": 1,
   "metadata": {},
   "outputs": [],
   "source": [
    "import pandas as pd"
   ]
  },
  {
   "cell_type": "code",
   "execution_count": 3,
   "metadata": {},
   "outputs": [],
   "source": [
    "# Read CSV file into DataFrame df\n",
    "# double check this index\n",
    "df = pd.read_csv('cmc_data_200_man.csv')"
   ]
  },
  {
   "cell_type": "code",
   "execution_count": 2,
   "metadata": {},
   "outputs": [],
   "source": [
    "# pandas imports empty cells as NaN, \n",
    "# and displays empty Object types as None\n",
    "#\n",
    "#\n",
    "# check 'source_code' column for tailing forwardslash & remove\n",
    "def removeSlash(string):\n",
    "    # type check\n",
    "    if type(string) == str:\n",
    "        # trim slash\n",
    "        if string[-1] == '/':\n",
    "            return string[:-1]\n",
    "        else:\n",
    "            return string\n",
    "    else:\n",
    "        return None\n",
    "        \n",
    "# findRepo takes the SourceCode string and strips the domain\n",
    "# this can be useful for querying GitHub databases\n",
    "def findRepo(string):\n",
    "    # type check\n",
    "    if type(string) == str:\n",
    "        if string.find('github') > 0 or string.find('gitlab') > 0:\n",
    "            return string[19:]\n",
    "        elif string.find('bitbucket') > 0:\n",
    "            return string[22:]\n",
    "        elif string == 'private':\n",
    "            return None\n",
    "        else:\n",
    "            # presumably some other URL\n",
    "            return string[8:]\n",
    "    # catch non-str types\n",
    "    else:\n",
    "        return None\n",
    "\n",
    "# extract the host from the SourceCode string\n",
    "# only really interested in GitHub (and GitLab)\n",
    "# data cannot be obtained from private or missing Forges\n",
    "def findForge(string):\n",
    "    # type check\n",
    "    if type(string) == str:\n",
    "        if string.find('github') > 0:\n",
    "            return 'github'\n",
    "        elif string.find('gitlab') > 0:\n",
    "            return 'gitlab'\n",
    "        elif string.find('bitbucket') > 0:\n",
    "            return 'bitbucket'\n",
    "        elif string == 'private':\n",
    "            return None\n",
    "    # catch non-str types\n",
    "    else:\n",
    "        return None"
   ]
  },
  {
   "cell_type": "code",
   "execution_count": null,
   "metadata": {},
   "outputs": [],
   "source": [
    "# strings for testing\n",
    "s1 = 'https://github.com/bitcoin/bitcoin'\n",
    "s2 = 'private'\n",
    "s3 = 'https://cardanoupdates.com/'\n",
    "s4 = 'https://github.com/WrappedBTC/bitcoin-token-smart-contracts'\n",
    "s5 = 'https://gitlab.com/NebulousLabs/Sia'\n",
    "s6\n",
    "s7 = ''\n",
    "s8 = 'https://bitbucket.com/chromawallet'\n",
    "findForge(s6)"
   ]
  },
  {
   "cell_type": "code",
   "execution_count": 4,
   "metadata": {},
   "outputs": [],
   "source": [
    "# check 'source_code' column for tailing forwardslash & remove \n",
    "df['source_code'] = df['source_code'].apply(removeSlash)\n",
    "\n",
    "# extract repo and forge info into new columns\n",
    "df['repo'] = df['source_code'].apply(findRepo)\n",
    "df['forge'] = df['source_code'].apply(findForge)"
   ]
  },
  {
   "cell_type": "code",
   "execution_count": 6,
   "metadata": {},
   "outputs": [],
   "source": [
    "# write out to '200_repos.csv'\n",
    "# ['source_code'] column is used by clickhouse to run queries\n",
    "df.to_csv('200_repos.csv', encoding = 'utf-8', index = False)"
   ]
  }
 ],
 "metadata": {
  "kernelspec": {
   "display_name": "Python 3",
   "language": "python",
   "name": "python3"
  },
  "language_info": {
   "codemirror_mode": {
    "name": "ipython",
    "version": 3
   },
   "file_extension": ".py",
   "mimetype": "text/x-python",
   "name": "python",
   "nbconvert_exporter": "python",
   "pygments_lexer": "ipython3",
   "version": "3.8.5"
  }
 },
 "nbformat": 4,
 "nbformat_minor": 4
}
