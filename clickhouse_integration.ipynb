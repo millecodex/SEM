{
 "cells": [
  {
   "cell_type": "code",
   "execution_count": null,
   "metadata": {},
   "outputs": [],
   "source": [
    "'''\n",
    "# W O R K   F L O W  #\n",
    "1. download github data in native clickhouse format (74.6 gb, ~10hours to download)\n",
    "2. clickhouse server must be running\n",
    "see: https://clickhouse.tech/docs/en/getting-started/install/\n",
    " >sudo service clickhouse-server start (may need sudo -u japple)\n",
    " >clickhouse-client\n",
    "# Insert the database into clickhouse\n",
    "3. create the db tables:\n",
    " >CREATE TABLE github_events ...\n",
    "see https://github-sql.github.io/explorer/#install-clickhouse\n",
    "4. Insert the DB file into clickhouse <E:\\Documents\\Clickhouse Github data\\github_events_v2.native.xz>\n",
    "5. run code here to connect to clickhouse client and manipulate data\n",
    "#\n",
    "# Note the clickhouse driver (python) communicates with the clickhouse server via a native TCP/IP protocol \n",
    "# that ships data as typed values; this will cause problems when INSERT-ing into a DB, however I don't see\n",
    "# this as an issue\n",
    "'''\n"
   ]
  },
  {
   "cell_type": "code",
   "execution_count": 3,
   "metadata": {},
   "outputs": [],
   "source": [
    "from sqlalchemy import create_engine\n",
    "from clickhouse_driver import Client\n",
    "\n",
    "# dependencies\n",
    "# >ipython-sql\n",
    "# install by command prompt:\n",
    "# >conda install -yc conda-forge ipython-sql"
   ]
  },
  {
   "cell_type": "code",
   "execution_count": 4,
   "metadata": {},
   "outputs": [],
   "source": [
    "client = Client('localhost')"
   ]
  },
  {
   "cell_type": "code",
   "execution_count": 3,
   "metadata": {},
   "outputs": [],
   "source": [
    "%load_ext sql"
   ]
  },
  {
   "cell_type": "code",
   "execution_count": null,
   "metadata": {},
   "outputs": [],
   "source": [
    "result = client.execute('SELECT now(), version()')"
   ]
  },
  {
   "cell_type": "code",
   "execution_count": null,
   "metadata": {},
   "outputs": [],
   "source": [
    "print(result)"
   ]
  },
  {
   "cell_type": "code",
   "execution_count": null,
   "metadata": {},
   "outputs": [],
   "source": [
    "result = client.execute('SELECT now(), version()')\n",
    "print(\"RESULT: {0}: {1}\".format(type(result), result))\n",
    "for t in result:\n",
    "    print(\" ROW: {0}: {1}\".format(type(t), t))\n",
    "    for v in t:\n",
    "        print(\"  COLUMN: {0}: {1}\".format(type(v), v))"
   ]
  },
  {
   "cell_type": "code",
   "execution_count": null,
   "metadata": {},
   "outputs": [],
   "source": [
    "print(client.execute('SHOW TABLES'))"
   ]
  },
  {
   "cell_type": "code",
   "execution_count": null,
   "metadata": {},
   "outputs": [],
   "source": [
    "query = '''\n",
    "SELECT\n",
    "    repo_name,\n",
    "    count()\n",
    "FROM github_events\n",
    "WHERE (event_type = 'WatchEvent') AND (repo_name LIKE '%_/_%')\n",
    "GROUP BY repo_name\n",
    "ORDER BY length(repo_name) ASC\n",
    "LIMIT 11\n",
    "'''"
   ]
  },
  {
   "cell_type": "code",
   "execution_count": null,
   "metadata": {},
   "outputs": [],
   "source": [
    "# load CSV file into dataframe\n",
    "# get test dataframe with different repos\n",
    "#  loop through dataframe\n",
    "#   pull repo\n",
    "#   build query\n",
    "#   run query\n",
    "#   write to dataframe\n"
   ]
  },
  {
   "cell_type": "code",
   "execution_count": 8,
   "metadata": {},
   "outputs": [],
   "source": [
    "import pandas as pd\n",
    "# not yet needed here\n",
    "import time\n",
    "import math"
   ]
  },
  {
   "cell_type": "code",
   "execution_count": 35,
   "metadata": {},
   "outputs": [],
   "source": [
    "# Read CSV file into DataFrame df\n",
    "# 200_repos_ready.csv has no index, CMC_id is in first column\n",
    "# NaN is assigned to empty cells\n",
    "dfs = pd.read_csv('200_repos.csv', index_col=0)"
   ]
  },
  {
   "cell_type": "code",
   "execution_count": 36,
   "metadata": {},
   "outputs": [],
   "source": [
    "df = dfs[['repo','forge']].copy()"
   ]
  },
  {
   "cell_type": "code",
   "execution_count": 106,
   "metadata": {},
   "outputs": [],
   "source": [
    "# subset dataframes for testing\n",
    "# use .copy() as slicing will not allow for assignment\n",
    "df10 = df.iloc[:10].copy()\n",
    "df33 = df.iloc[:33].copy()"
   ]
  },
  {
   "cell_type": "code",
   "execution_count": 38,
   "metadata": {},
   "outputs": [],
   "source": [
    "query_stars_L = '''\n",
    "SELECT \n",
    "    count() \n",
    "FROM github_events \n",
    "WHERE event_type = 'WatchEvent' \n",
    "    AND repo_name ='''\n",
    "query_stars_R = '''\n",
    "GROUP BY action\n",
    "'''\n",
    "repo = '''\n",
    "'HuobiGroup/huobi-eco-chain' \n",
    "'''"
   ]
  },
  {
   "cell_type": "code",
   "execution_count": 124,
   "metadata": {},
   "outputs": [],
   "source": [
    "query = '''\n",
    "SELECT \n",
    "    count() \n",
    "FROM github_events \n",
    "WHERE event_type = 'WatchEvent' \n",
    "    AND repo_name =\n",
    "'binance-chain/bsc'\n",
    "GROUP BY action\n",
    "'''"
   ]
  },
  {
   "cell_type": "code",
   "execution_count": 127,
   "metadata": {},
   "outputs": [],
   "source": [
    "query2 = '''\n",
    "SELECT \n",
    "    count() \n",
    "FROM github_events \n",
    "WHERE event_type = 'WatchEvent' \n",
    "    AND repo_name =\n",
    "'HuobiGroup/huobi-eco-chain'\n",
    "GROUP BY action\n",
    "'''"
   ]
  },
  {
   "cell_type": "code",
   "execution_count": 125,
   "metadata": {},
   "outputs": [
    {
     "name": "stdout",
     "output_type": "stream",
     "text": [
      "\n",
      "SELECT \n",
      "    count() \n",
      "FROM github_events \n",
      "WHERE event_type = 'WatchEvent' \n",
      "    AND repo_name =\n",
      "'binance-chain/bsc'\n",
      "GROUP BY action\n",
      "\n"
     ]
    }
   ],
   "source": [
    "print(query)"
   ]
  },
  {
   "cell_type": "code",
   "execution_count": 130,
   "metadata": {},
   "outputs": [
    {
     "name": "stdout",
     "output_type": "stream",
     "text": [
      "[(55,)]\n",
      "[]\n"
     ]
    }
   ],
   "source": [
    "res=client.execute(query)\n",
    "res2=client.execute(query2)\n",
    "print(res)\n",
    "print(res2)"
   ]
  },
  {
   "cell_type": "code",
   "execution_count": 139,
   "metadata": {},
   "outputs": [
    {
     "name": "stdout",
     "output_type": "stream",
     "text": [
      "not\n"
     ]
    }
   ],
   "source": [
    "if not res2: print('not')"
   ]
  },
  {
   "cell_type": "code",
   "execution_count": 39,
   "metadata": {},
   "outputs": [],
   "source": [
    "# initialize new column to null/None\n",
    "df['stars']=None\n",
    "# iterate the dataframe as follows:\n",
    "'''\n",
    "loop through dataframe\n",
    "  pull repo\n",
    "  build query\n",
    "  run query\n",
    "  update dataframe\n",
    "'''\n",
    "for row in df.itertuples():\n",
    "    # only github for now as client is connected to github_events DB\n",
    "    if row.forge == 'github':\n",
    "        stars = 0\n",
    "        repo = row.repo\n",
    "        # skip the NaN repos\n",
    "        if type(repo) == str:\n",
    "            query = query_stars_L + '\\''+repo+'\\'' + query_stars_R\n",
    "            stars = client.execute(query)\n",
    "            # query returns a tuple of list elements accessible by [first list][first item]\n",
    "            # no stars returns an empty list\n",
    "            if not stars:\n",
    "                continue\n",
    "            else: df.at[row.Index, 'stars'] = stars[0][0]"
   ]
  },
  {
   "cell_type": "code",
   "execution_count": 40,
   "metadata": {},
   "outputs": [
    {
     "data": {
      "text/html": [
       "<div>\n",
       "<style scoped>\n",
       "    .dataframe tbody tr th:only-of-type {\n",
       "        vertical-align: middle;\n",
       "    }\n",
       "\n",
       "    .dataframe tbody tr th {\n",
       "        vertical-align: top;\n",
       "    }\n",
       "\n",
       "    .dataframe thead th {\n",
       "        text-align: right;\n",
       "    }\n",
       "</style>\n",
       "<table border=\"1\" class=\"dataframe\">\n",
       "  <thead>\n",
       "    <tr style=\"text-align: right;\">\n",
       "      <th></th>\n",
       "      <th>repo</th>\n",
       "      <th>forge</th>\n",
       "      <th>stars</th>\n",
       "    </tr>\n",
       "    <tr>\n",
       "      <th>CMC_id</th>\n",
       "      <th></th>\n",
       "      <th></th>\n",
       "      <th></th>\n",
       "    </tr>\n",
       "  </thead>\n",
       "  <tbody>\n",
       "    <tr>\n",
       "      <th>1</th>\n",
       "      <td>bitcoin/bitcoin</td>\n",
       "      <td>github</td>\n",
       "      <td>53646</td>\n",
       "    </tr>\n",
       "    <tr>\n",
       "      <th>1027</th>\n",
       "      <td>ethereum/go-ethereum</td>\n",
       "      <td>github</td>\n",
       "      <td>30598</td>\n",
       "    </tr>\n",
       "    <tr>\n",
       "      <th>1839</th>\n",
       "      <td>binance-chain/bsc</td>\n",
       "      <td>github</td>\n",
       "      <td>55</td>\n",
       "    </tr>\n",
       "    <tr>\n",
       "      <th>825</th>\n",
       "      <td>NaN</td>\n",
       "      <td>private</td>\n",
       "      <td>None</td>\n",
       "    </tr>\n",
       "    <tr>\n",
       "      <th>2010</th>\n",
       "      <td>input-output-hk/cardano-node</td>\n",
       "      <td>github</td>\n",
       "      <td>357</td>\n",
       "    </tr>\n",
       "    <tr>\n",
       "      <th>...</th>\n",
       "      <td>...</td>\n",
       "      <td>...</td>\n",
       "      <td>...</td>\n",
       "    </tr>\n",
       "    <tr>\n",
       "      <th>1993</th>\n",
       "      <td>NaN</td>\n",
       "      <td>other</td>\n",
       "      <td>None</td>\n",
       "    </tr>\n",
       "    <tr>\n",
       "      <th>541</th>\n",
       "      <td>syscoin</td>\n",
       "      <td>github</td>\n",
       "      <td>None</td>\n",
       "    </tr>\n",
       "    <tr>\n",
       "      <th>3714</th>\n",
       "      <td>legalthings</td>\n",
       "      <td>github</td>\n",
       "      <td>None</td>\n",
       "    </tr>\n",
       "    <tr>\n",
       "      <th>3437</th>\n",
       "      <td>ABBCTEAM</td>\n",
       "      <td>github</td>\n",
       "      <td>None</td>\n",
       "    </tr>\n",
       "    <tr>\n",
       "      <th>4705</th>\n",
       "      <td>paxosglobal/paxos-gold-contract</td>\n",
       "      <td>github</td>\n",
       "      <td>7</td>\n",
       "    </tr>\n",
       "  </tbody>\n",
       "</table>\n",
       "<p>201 rows × 3 columns</p>\n",
       "</div>"
      ],
      "text/plain": [
       "                                   repo    forge  stars\n",
       "CMC_id                                                 \n",
       "1                       bitcoin/bitcoin   github  53646\n",
       "1027               ethereum/go-ethereum   github  30598\n",
       "1839                  binance-chain/bsc   github     55\n",
       "825                                 NaN  private   None\n",
       "2010       input-output-hk/cardano-node   github    357\n",
       "...                                 ...      ...    ...\n",
       "1993                                NaN    other   None\n",
       "541                             syscoin   github   None\n",
       "3714                        legalthings   github   None\n",
       "3437                           ABBCTEAM   github   None\n",
       "4705    paxosglobal/paxos-gold-contract   github      7\n",
       "\n",
       "[201 rows x 3 columns]"
      ]
     },
     "execution_count": 40,
     "metadata": {},
     "output_type": "execute_result"
    }
   ],
   "source": [
    "# write update to 200_copy_stars.csv\n",
    "# note beginning of script: pd.read_csv('200_repos_ready.csv', index_col=0)\n",
    "df.to_csv('200_stars.csv', encoding='utf-8', index=1)\n",
    "df"
   ]
  },
  {
   "cell_type": "code",
   "execution_count": 28,
   "metadata": {},
   "outputs": [],
   "source": [
    "# Read in 200_repos.csv \n",
    "# has no index, CMC_id is in first column\n",
    "dfr = pd.read_csv('200_repos.csv', index_col=0)\n",
    "# new df with only 2 columns\n",
    "# 'CMC_id' as index is maintained\n",
    "df = dfr[['repo','forge']].copy()\n"
   ]
  },
  {
   "cell_type": "code",
   "execution_count": 14,
   "metadata": {},
   "outputs": [
    {
     "data": {
      "text/plain": [
       "\"\\nSELECT \\n    count() AS forks \\nFROM github_events \\nWHERE event_type = 'ForkEvent' AND repo_name =\\n\\n'curvefi/curve-dao-contracts/tree/master/doc'\\n\""
      ]
     },
     "execution_count": 14,
     "metadata": {},
     "output_type": "execute_result"
    }
   ],
   "source": [
    "query_forks_L = '''\n",
    "SELECT \n",
    "    count() AS forks \n",
    "FROM github_events \n",
    "WHERE event_type = 'ForkEvent' AND repo_name =\n",
    "'''\n",
    "query_forks_R = '''\n",
    "'curvefi/curve-dao-contracts/tree/master/doc'\n",
    "'''\n",
    "query_forks = query_forks_L + query_forks_R\n",
    "query_forks"
   ]
  },
  {
   "cell_type": "code",
   "execution_count": 15,
   "metadata": {},
   "outputs": [
    {
     "name": "stdout",
     "output_type": "stream",
     "text": [
      "[(0,)]\n"
     ]
    }
   ],
   "source": [
    "result=client.execute(query_forks)\n",
    "print(result)"
   ]
  },
  {
   "cell_type": "code",
   "execution_count": 30,
   "metadata": {},
   "outputs": [],
   "source": [
    "# initialize new column to null/None\n",
    "df['forks']=None\n",
    "# iterate the dataframe as follows:\n",
    "'''\n",
    "loop through dataframe\n",
    "  pull repo\n",
    "  build query\n",
    "  run query\n",
    "  update dataframe\n",
    "'''\n",
    "for row in df.itertuples():\n",
    "    # only github for now as client is connected to github_events DB\n",
    "    if row.forge == 'github':\n",
    "        forks = 0\n",
    "        repo = row.repo\n",
    "        # skip the NaN repos\n",
    "        if type(repo) == str:\n",
    "            query = query_forks_L + '\\''+repo+'\\''\n",
    "            forks = client.execute(query)\n",
    "            # query returns a tuple of list elements accessible by [first list][first item]\n",
    "            # no stars returns an empty list\n",
    "            if not forks:\n",
    "                continue\n",
    "            else: df.at[row.Index, 'forks'] = forks[0][0]"
   ]
  },
  {
   "cell_type": "code",
   "execution_count": 32,
   "metadata": {},
   "outputs": [
    {
     "data": {
      "text/html": [
       "<div>\n",
       "<style scoped>\n",
       "    .dataframe tbody tr th:only-of-type {\n",
       "        vertical-align: middle;\n",
       "    }\n",
       "\n",
       "    .dataframe tbody tr th {\n",
       "        vertical-align: top;\n",
       "    }\n",
       "\n",
       "    .dataframe thead th {\n",
       "        text-align: right;\n",
       "    }\n",
       "</style>\n",
       "<table border=\"1\" class=\"dataframe\">\n",
       "  <thead>\n",
       "    <tr style=\"text-align: right;\">\n",
       "      <th></th>\n",
       "      <th>repo</th>\n",
       "      <th>forge</th>\n",
       "      <th>forks</th>\n",
       "    </tr>\n",
       "    <tr>\n",
       "      <th>CMC_id</th>\n",
       "      <th></th>\n",
       "      <th></th>\n",
       "      <th></th>\n",
       "    </tr>\n",
       "  </thead>\n",
       "  <tbody>\n",
       "    <tr>\n",
       "      <th>1</th>\n",
       "      <td>bitcoin/bitcoin</td>\n",
       "      <td>github</td>\n",
       "      <td>26356</td>\n",
       "    </tr>\n",
       "    <tr>\n",
       "      <th>1027</th>\n",
       "      <td>ethereum/go-ethereum</td>\n",
       "      <td>github</td>\n",
       "      <td>12090</td>\n",
       "    </tr>\n",
       "    <tr>\n",
       "      <th>1839</th>\n",
       "      <td>binance-chain/bsc</td>\n",
       "      <td>github</td>\n",
       "      <td>25</td>\n",
       "    </tr>\n",
       "    <tr>\n",
       "      <th>825</th>\n",
       "      <td>NaN</td>\n",
       "      <td>private</td>\n",
       "      <td>None</td>\n",
       "    </tr>\n",
       "    <tr>\n",
       "      <th>2010</th>\n",
       "      <td>input-output-hk/cardano-node</td>\n",
       "      <td>github</td>\n",
       "      <td>139</td>\n",
       "    </tr>\n",
       "    <tr>\n",
       "      <th>...</th>\n",
       "      <td>...</td>\n",
       "      <td>...</td>\n",
       "      <td>...</td>\n",
       "    </tr>\n",
       "    <tr>\n",
       "      <th>1993</th>\n",
       "      <td>NaN</td>\n",
       "      <td>other</td>\n",
       "      <td>None</td>\n",
       "    </tr>\n",
       "    <tr>\n",
       "      <th>541</th>\n",
       "      <td>syscoin</td>\n",
       "      <td>github</td>\n",
       "      <td>0</td>\n",
       "    </tr>\n",
       "    <tr>\n",
       "      <th>3714</th>\n",
       "      <td>legalthings</td>\n",
       "      <td>github</td>\n",
       "      <td>0</td>\n",
       "    </tr>\n",
       "    <tr>\n",
       "      <th>3437</th>\n",
       "      <td>ABBCTEAM</td>\n",
       "      <td>github</td>\n",
       "      <td>0</td>\n",
       "    </tr>\n",
       "    <tr>\n",
       "      <th>4705</th>\n",
       "      <td>paxosglobal/paxos-gold-contract</td>\n",
       "      <td>github</td>\n",
       "      <td>6</td>\n",
       "    </tr>\n",
       "  </tbody>\n",
       "</table>\n",
       "<p>201 rows × 3 columns</p>\n",
       "</div>"
      ],
      "text/plain": [
       "                                   repo    forge  forks\n",
       "CMC_id                                                 \n",
       "1                       bitcoin/bitcoin   github  26356\n",
       "1027               ethereum/go-ethereum   github  12090\n",
       "1839                  binance-chain/bsc   github     25\n",
       "825                                 NaN  private   None\n",
       "2010       input-output-hk/cardano-node   github    139\n",
       "...                                 ...      ...    ...\n",
       "1993                                NaN    other   None\n",
       "541                             syscoin   github      0\n",
       "3714                        legalthings   github      0\n",
       "3437                           ABBCTEAM   github      0\n",
       "4705    paxosglobal/paxos-gold-contract   github      6\n",
       "\n",
       "[201 rows x 3 columns]"
      ]
     },
     "execution_count": 32,
     "metadata": {},
     "output_type": "execute_result"
    }
   ],
   "source": [
    "# write update to 200_forks.csv\n",
    "df.to_csv('200_forks.csv', encoding='utf-8', index=1)\n",
    "df"
   ]
  },
  {
   "cell_type": "code",
   "execution_count": 62,
   "metadata": {},
   "outputs": [],
   "source": [
    "# merge two csv files into one\n",
    "# 1. 200_stars.csv\n",
    "# 2. 200_forks.csv\n",
    "#\n",
    "# might prefer to append the new column? merge seems a bit cumbersome?\n",
    "#\n",
    "# has no index, CMC_id is in first column\n",
    "dfs = pd.read_csv('200_stars.csv', index_col=0)\n",
    "#dfsm = dfs[['stars']].copy()\n",
    "dff = pd.read_csv('200_forks.csv', index_col=0)\n",
    "#dffm = dff[['forks']].copy()\n",
    "#"
   ]
  },
  {
   "cell_type": "code",
   "execution_count": 75,
   "metadata": {},
   "outputs": [],
   "source": [
    "dfm = pd.merge(dfs,dff,on=['CMC_id','repo','forge'])"
   ]
  },
  {
   "cell_type": "code",
   "execution_count": 76,
   "metadata": {},
   "outputs": [],
   "source": [
    "# write update to 200_merged.csv\n",
    "dfm.to_csv('200_merged.csv', encoding='utf-8', index=1)"
   ]
  },
  {
   "cell_type": "code",
   "execution_count": null,
   "metadata": {},
   "outputs": [],
   "source": []
  }
 ],
 "metadata": {
  "kernelspec": {
   "display_name": "Python 3",
   "language": "python",
   "name": "python3"
  },
  "language_info": {
   "codemirror_mode": {
    "name": "ipython",
    "version": 3
   },
   "file_extension": ".py",
   "mimetype": "text/x-python",
   "name": "python",
   "nbconvert_exporter": "python",
   "pygments_lexer": "ipython3",
   "version": "3.8.5"
  }
 },
 "nbformat": 4,
 "nbformat_minor": 4
}
