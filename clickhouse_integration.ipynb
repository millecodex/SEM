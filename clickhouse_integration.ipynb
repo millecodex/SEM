{
 "cells": [
  {
   "cell_type": "code",
   "execution_count": null,
   "metadata": {},
   "outputs": [],
   "source": [
    "'''\n",
    "# W O R K   F L O W  #\n",
    "1. download github data in native clickhouse format (74.6 gb, ~10hours to download)\n",
    "2. clickhouse server must be running\n",
    "see: https://clickhouse.tech/docs/en/getting-started/install/\n",
    " >sudo service clickhouse-server start (may need sudo -u japple)\n",
    " >clickhouse-client\n",
    "# Insert the database into clickhouse\n",
    "3. create the db tables:\n",
    " >CREATE TABLE github_events ...\n",
    "see https://github-sql.github.io/explorer/#install-clickhouse\n",
    "4. Insert the DB file into clickhouse <E:\\Documents\\Clickhouse Github data\\github_events_v2.native.xz>\n",
    "5. run code here to connect to clickhouse client and manipulate data\n",
    "#\n",
    "# Note the clickhouse driver (python) communicates with the clickhouse server via a native TCP/IP protocol \n",
    "# that ships data as typed values; this will cause problems when INSERT-ing into a DB, however I don't see\n",
    "# this as an issue\n",
    "'''\n"
   ]
  },
  {
   "cell_type": "code",
   "execution_count": 83,
   "metadata": {},
   "outputs": [],
   "source": [
    "from sqlalchemy import create_engine\n",
    "from clickhouse_driver import Client\n",
    "# dependencies\n",
    "# >ipython-sql\n",
    "# install by command prompt:\n",
    "# >conda install -yc conda-forge ipython-sql\n",
    "client = Client('localhost')"
   ]
  },
  {
   "cell_type": "code",
   "execution_count": null,
   "metadata": {},
   "outputs": [],
   "source": [
    "# load CSV file into dataframe\n",
    "# get test dataframe with different repos\n",
    "#  loop through dataframe\n",
    "#   pull repo\n",
    "#   build query\n",
    "#   run query\n",
    "#   write to dataframe"
   ]
  },
  {
   "cell_type": "code",
   "execution_count": null,
   "metadata": {},
   "outputs": [],
   "source": [
    "import pandas as pd\n",
    "# not yet needed here\n",
    "import time\n",
    "import math"
   ]
  },
  {
   "cell_type": "code",
   "execution_count": null,
   "metadata": {},
   "outputs": [],
   "source": [
    "# Read CSV file into DataFrame df\n",
    "# 200_repos_ready.csv has no index, CMC_id is in first column\n",
    "# NaN is assigned to empty cells\n",
    "dfs = pd.read_csv('200_repos.csv', index_col=0)"
   ]
  },
  {
   "cell_type": "code",
   "execution_count": null,
   "metadata": {},
   "outputs": [],
   "source": [
    "df = dfs[['repo','forge']].copy()"
   ]
  },
  {
   "cell_type": "code",
   "execution_count": null,
   "metadata": {},
   "outputs": [],
   "source": [
    "# subset dataframes for testing\n",
    "# use .copy() as slicing will not allow for assignment\n",
    "df10 = df.iloc[:10].copy()\n",
    "df33 = df.iloc[:33].copy()"
   ]
  },
  {
   "cell_type": "code",
   "execution_count": null,
   "metadata": {},
   "outputs": [],
   "source": [
    "query_stars_L = '''\n",
    "SELECT \n",
    "    count() \n",
    "FROM github_events \n",
    "WHERE event_type = 'WatchEvent' \n",
    "    AND repo_name ='''\n",
    "query_stars_R = '''\n",
    "GROUP BY action\n",
    "'''\n",
    "repo = '''\n",
    "'HuobiGroup/huobi-eco-chain' \n",
    "'''"
   ]
  },
  {
   "cell_type": "code",
   "execution_count": 203,
   "metadata": {},
   "outputs": [],
   "source": [
    "query_test_noStars = '''\n",
    "SELECT \n",
    "    count() \n",
    "FROM github_events \n",
    "WHERE event_type = 'WatchEvent' \n",
    "    AND repo_name =\n",
    "'millecodex/SEM'\n",
    "GROUP BY action\n",
    "'''"
   ]
  },
  {
   "cell_type": "code",
   "execution_count": null,
   "metadata": {},
   "outputs": [],
   "source": [
    "query2 = '''\n",
    "SELECT \n",
    "    count() \n",
    "FROM github_events \n",
    "WHERE event_type = 'WatchEvent' \n",
    "    AND repo_name =\n",
    "'HuobiGroup/huobi-eco-chain'\n",
    "GROUP BY action\n",
    "'''"
   ]
  },
  {
   "cell_type": "code",
   "execution_count": 206,
   "metadata": {},
   "outputs": [
    {
     "name": "stdout",
     "output_type": "stream",
     "text": [
      "not\n"
     ]
    }
   ],
   "source": [
    "res=client.execute(query_test_noStars)\n",
    "if not res: print('not')"
   ]
  },
  {
   "cell_type": "code",
   "execution_count": null,
   "metadata": {},
   "outputs": [],
   "source": [
    "# test query that returns empty list (no results)\n",
    "if not res2: print('not')"
   ]
  },
  {
   "cell_type": "code",
   "execution_count": null,
   "metadata": {},
   "outputs": [],
   "source": [
    "# Write a function for this\n",
    "#\n",
    "# initialize new column to null/None\n",
    "df['stars']=None\n",
    "# iterate the dataframe as follows:\n",
    "'''\n",
    "loop through dataframe\n",
    "  pull repo\n",
    "  build query\n",
    "  run query\n",
    "  update dataframe\n",
    "'''\n",
    "for row in df.itertuples():\n",
    "    # only github for now as client is connected to github_events DB\n",
    "    if row.forge == 'github':\n",
    "        stars = 0\n",
    "        repo = row.repo\n",
    "        # skip the NaN repos\n",
    "        if type(repo) == str:\n",
    "            query = query_stars_L + '\\''+repo+'\\'' + query_stars_R\n",
    "            stars = client.execute(query)\n",
    "            # query returns a tuple of list elements accessible by [first list][first item]\n",
    "            # no stars returns an empty list\n",
    "            if not stars:\n",
    "                df.at[row.Index, 'stars'] = 0\n",
    "            else: df.at[row.Index, 'stars'] = stars[0][0]"
   ]
  },
  {
   "cell_type": "code",
   "execution_count": null,
   "metadata": {},
   "outputs": [],
   "source": [
    "# write update to 200_copy_stars.csv\n",
    "# note beginning of script: pd.read_csv('200_repos_ready.csv', index_col=0)\n",
    "df.to_csv('200_stars.csv', encoding='utf-8', index=1)\n",
    "df"
   ]
  },
  {
   "cell_type": "code",
   "execution_count": null,
   "metadata": {},
   "outputs": [],
   "source": [
    "# Read in 200_repos.csv \n",
    "# has no index, CMC_id is in first column\n",
    "dfr = pd.read_csv('200_repos.csv', index_col=0)\n",
    "# new df with only 2 columns\n",
    "# 'CMC_id' as index is maintained\n",
    "df = dfr[['repo','forge']].copy()\n"
   ]
  },
  {
   "cell_type": "code",
   "execution_count": null,
   "metadata": {},
   "outputs": [],
   "source": [
    "query_forks_L = '''\n",
    "SELECT \n",
    "    count() AS forks \n",
    "FROM github_events \n",
    "WHERE event_type = 'ForkEvent' AND repo_name =\n",
    "'''\n",
    "query_forks_R = '''\n",
    "'curvefi/curve-dao-contracts/tree/master/doc'\n",
    "'''\n",
    "query_forks = query_forks_L + query_forks_R\n",
    "query_forks"
   ]
  },
  {
   "cell_type": "code",
   "execution_count": null,
   "metadata": {},
   "outputs": [],
   "source": [
    "result=client.execute(query_forks)\n",
    "print(result)"
   ]
  },
  {
   "cell_type": "code",
   "execution_count": null,
   "metadata": {},
   "outputs": [],
   "source": [
    "# Write a function for this\n",
    "#\n",
    "# initialize new column to null/None\n",
    "# might not be necessary\n",
    "df['forks']=None\n",
    "# iterate the dataframe as follows:\n",
    "'''\n",
    "loop through dataframe\n",
    "  pull repo\n",
    "  build query\n",
    "  run query\n",
    "  update dataframe\n",
    "'''\n",
    "for row in df.itertuples():\n",
    "    # only github for now as client is connected to github_events DB\n",
    "    if row.forge == 'github':\n",
    "        forks = 0\n",
    "        repo = row.repo\n",
    "        # skip the NaN repos\n",
    "        if type(repo) == str:\n",
    "            query = query_forks_L + '\\''+repo+'\\''\n",
    "            forks = client.execute(query)\n",
    "            # query returns a tuple of list elements accessible by [first list][first item]\n",
    "            # no forks returns an empty list\n",
    "            if not forks:\n",
    "                df.at[row.Index, 'forks'] = 0\n",
    "            else: df.at[row.Index, 'forks'] = forks[0][0]"
   ]
  },
  {
   "cell_type": "code",
   "execution_count": null,
   "metadata": {},
   "outputs": [],
   "source": [
    "# write update to 200_forks.csv\n",
    "df.to_csv('200_forks.csv', encoding='utf-8', index=1)\n",
    "df"
   ]
  },
  {
   "cell_type": "code",
   "execution_count": null,
   "metadata": {},
   "outputs": [],
   "source": [
    "# merge two csv files into one\n",
    "# 1. 200_stars.csv\n",
    "# 2. 200_forks.csv\n",
    "#\n",
    "# might prefer to append the new column? merge seems a bit cumbersome?\n",
    "#\n",
    "# has no index, CMC_id is in first column\n",
    "dfs = pd.read_csv('200_stars.csv', index_col=0)\n",
    "#dfsm = dfs[['stars']].copy()\n",
    "dff = pd.read_csv('200_forks.csv', index_col=0)\n",
    "#dffm = dff[['forks']].copy()\n",
    "#"
   ]
  },
  {
   "cell_type": "code",
   "execution_count": null,
   "metadata": {},
   "outputs": [],
   "source": [
    "# 'CMC_id' is the key, however 'repo', and 'forge' are also merged\n",
    "# to prevent duplicate columns\n",
    "# -> might be uncecessary?\n",
    "dfm = pd.merge(dfs,dff,on=['CMC_id','repo','forge'])"
   ]
  },
  {
   "cell_type": "code",
   "execution_count": null,
   "metadata": {},
   "outputs": [],
   "source": [
    "# write update to 200_merged.csv\n",
    "dfm.to_csv('200_merged.csv', encoding='utf-8', index=1)"
   ]
  },
  {
   "cell_type": "code",
   "execution_count": 91,
   "metadata": {},
   "outputs": [],
   "source": [
    "# AUTHORS query:\n",
    "# A most-recent three-month average \n",
    "# excluding current month because it is in progress\n",
    "# modify for static clickhouse data which stops at 2020-12-07\n",
    "# >>created_at >= dateSub(MONTH, 6,toStartOfMonth(now())) AND\n",
    "# >>created_at < dateSub(MONTH, 3,toStartOfMonth(now()))\n",
    "#\n",
    "QUERY_AUTHORS = '''\n",
    "SELECT\n",
    "    ROUND( SUM(authors) / COUNT(month), 2) AS average\n",
    "FROM\n",
    "(\n",
    "    SELECT \n",
    "        uniq(actor_login) AS authors,\n",
    "        toMonth(created_at) AS month,\n",
    "        toYear(created_at) AS year\n",
    "    FROM github_events\n",
    "    WHERE event_type IN ('PullRequestEvent', 'IssuesEvent', 'IssueCommentEvent', 'PullRequestReviewCommentEvent') AND\n",
    "        repo_name = 'bitcoin/bitcoin' AND\n",
    "        created_at >= dateSub(MONTH, 3,toStartOfMonth(now())) AND\n",
    "        created_at < toStartOfMonth(now())\n",
    "    GROUP BY month, year\n",
    "    ORDER BY year DESC, month DESC\n",
    ")'''\n",
    "query_authors_L = '''\n",
    "SELECT\n",
    "    ROUND( SUM(authors) / COUNT(month), 2) AS average\n",
    "FROM\n",
    "(\n",
    "    SELECT \n",
    "        uniq(actor_login) AS authors,\n",
    "        toMonth(created_at) AS month,\n",
    "        toYear(created_at) AS year\n",
    "    FROM github_events\n",
    "    WHERE event_type IN ('PullRequestEvent', 'IssuesEvent', 'IssueCommentEvent', 'PullRequestReviewCommentEvent') AND\n",
    "        repo_name = \n",
    "'''\n",
    "q_repo='bitcoin/bitcoin'\n",
    "query_authors_R = '''AND\n",
    "        /*created_at >= dateSub(MONTH, 3,toStartOfMonth(now())) AND\n",
    "        created_at < toStartOfMonth(now())*/\n",
    "        created_at >= dateSub(MONTH, 6,toStartOfMonth(now())) AND\n",
    "        created_at < dateSub(MONTH, 3,toStartOfMonth(now()))\n",
    "    GROUP BY month, year\n",
    "    ORDER BY year DESC, month DESC\n",
    ")'''\n",
    "query_authors=query_authors_L + '\\'' + q_repo + '\\'' + query_authors_R"
   ]
  },
  {
   "cell_type": "code",
   "execution_count": 99,
   "metadata": {},
   "outputs": [],
   "source": [
    "# Read in 200_repos.csv\n",
    "dfr = pd.read_csv('200_repos.csv', index_col=0)\n",
    "# new df with only 2 columns\n",
    "# 'CMC_id' as index is maintained\n",
    "df = dfr[['repo','forge']].copy()\n",
    "#dfs = df[0:20].copy()"
   ]
  },
  {
   "cell_type": "code",
   "execution_count": 92,
   "metadata": {},
   "outputs": [
    {
     "data": {
      "text/plain": [
       "[(130.5,)]"
      ]
     },
     "execution_count": 92,
     "metadata": {},
     "output_type": "execute_result"
    }
   ],
   "source": [
    "res=client.execute(QUERY_AUTHORS)\n",
    "res"
   ]
  },
  {
   "cell_type": "code",
   "execution_count": null,
   "metadata": {},
   "outputs": [],
   "source": [
    "print(QUERY_AUTHORS)"
   ]
  },
  {
   "cell_type": "code",
   "execution_count": 93,
   "metadata": {},
   "outputs": [
    {
     "name": "stdout",
     "output_type": "stream",
     "text": [
      "SELECT\n",
      "    ROUND( SUM(authors) / COUNT(*) ,2) AS average\n",
      "FROM\n",
      "(\n",
      "    SELECT \n",
      "        uniq(actor_login) AS authors,\n",
      "        toMonth(created_at) AS month,\n",
      "        toYear(created_at) AS year\n",
      "    FROM github_events\n",
      "    WHERE event_type IN ('PullRequestEvent', 'IssuesEvent', 'IssueCommentEvent', 'PullRequestReviewCommentEvent') AND\n",
      "        repo_name = \n",
      "'bitcoin/bitcoin'AND\n",
      "        created_at > date_sub(MONTH, 7, now()) AND\n",
      "        created_at < date_sub(MONTH, 4, now())\n",
      "    GROUP BY month, year\n",
      "    ORDER BY year DESC, month DESC\n",
      ")\n"
     ]
    }
   ],
   "source": [
    "print(query_authors)"
   ]
  },
  {
   "cell_type": "code",
   "execution_count": 101,
   "metadata": {},
   "outputs": [],
   "source": [
    "for row in df.itertuples():\n",
    "    # only github for now as client is connected to github_events DB\n",
    "    if row.forge == 'github':\n",
    "        #forks = 0\n",
    "        repo = row.repo\n",
    "        # skip the NaN repos\n",
    "        if type(repo) == str:\n",
    "            query = query_authors_L + '\\'' + repo + '\\'' + query_authors_R\n",
    "            authors = client.execute(query)\n",
    "            # query returns a tuple of list elements accessible by [first list][first item]\n",
    "            # average of no authors returns a nan\n",
    "            if math.isnan(result[0][0]):\n",
    "                df.at[row.Index, 'authors'] = 0\n",
    "            else: df.at[row.Index, 'authors'] = authors[0][0]"
   ]
  },
  {
   "cell_type": "code",
   "execution_count": null,
   "metadata": {},
   "outputs": [],
   "source": []
  },
  {
   "cell_type": "code",
   "execution_count": 104,
   "metadata": {},
   "outputs": [],
   "source": [
    "# write update to 200_authors.csv\n",
    "df.to_csv('200_authors.csv', encoding='utf-8', index=1)"
   ]
  },
  {
   "cell_type": "code",
   "execution_count": 105,
   "metadata": {},
   "outputs": [],
   "source": [
    "# update MERGED sheet with new data\n",
    "# 'CMC_id' is the key, however 'repo', and 'forge' are also merged\n",
    "# to prevent duplicate columns\n",
    "df_temp = pd.read_csv('200_merged.csv', index_col=0)\n",
    "dfm = pd.merge(df_temp,df,on=['CMC_id','repo','forge'])\n",
    "dfm.to_csv('200_merged.csv', encoding='utf-8', index=1)"
   ]
  },
  {
   "cell_type": "code",
   "execution_count": 106,
   "metadata": {},
   "outputs": [
    {
     "name": "stdout",
     "output_type": "stream",
     "text": [
      "[(datetime.datetime(2020, 12, 7, 8, 59, 59),), (datetime.datetime(2020, 12, 7, 8, 59, 59),), (datetime.datetime(2020, 12, 7, 8, 59, 59),), (datetime.datetime(2020, 12, 7, 8, 59, 59),), (datetime.datetime(2020, 12, 7, 8, 59, 59),), (datetime.datetime(2020, 12, 7, 8, 59, 59),), (datetime.datetime(2020, 12, 7, 8, 59, 59),), (datetime.datetime(2020, 12, 7, 8, 59, 59),), (datetime.datetime(2020, 12, 7, 8, 59, 59),), (datetime.datetime(2020, 12, 7, 8, 59, 59),)]\n"
     ]
    }
   ],
   "source": [
    "print(client.execute('SELECT created_at FROM github_events ORDER by created_at DESC LIMIT 10'))"
   ]
  },
  {
   "cell_type": "code",
   "execution_count": 161,
   "metadata": {},
   "outputs": [],
   "source": [
    "# COMMITS query:\n",
    "# A most-recent three-month average \n",
    "# excluding current month because it is in progress\n",
    "#\n",
    "# modify for static clickhouse data which stops at 2020-12-07:\n",
    "# >>created_at >= dateSub(MONTH, 6,toStartOfMonth(now())) AND\n",
    "# >>created_at < dateSub(MONTH, 3,toStartOfMonth(now()))\n",
    "# \n",
    "# note: there will be moderate timezone discrepancies, especially \n",
    "#       when calculating near the first of the month\n",
    "#\n",
    "QUERY_COMMITS = '''\n",
    "SELECT ROUND( SUM(sum_push_distinct) / COUNT(month), 2) AS average\n",
    "FROM\n",
    "(\n",
    "    SELECT SUM(push_distinct_size) AS sum_push_distinct, \n",
    "        toMonth(created_at) AS month,\n",
    "        toYear(created_at) AS year\n",
    "    FROM github_events\n",
    "    WHERE repo_name = 'bitcoin/bitcoin' AND \n",
    "        event_type = 'PushEvent' AND\n",
    "        /*created_at >= dateSub(MONTH, 3,toStartOfMonth(now())) AND\n",
    "        created_at < toStartOfMonth(now())*/\n",
    "        created_at >= dateSub(MONTH, 7,toStartOfMonth(now())) AND\n",
    "        created_at < dateSub(MONTH, 4,toStartOfMonth(now()))\n",
    "    GROUP BY month, year\n",
    "    ORDER BY year DESC, month DESC\n",
    ")\n",
    "'''\n",
    "query_commits_L ='''\n",
    "SELECT ROUND( SUM(sum_push_distinct) / COUNT(month), 2) AS average\n",
    "FROM\n",
    "(\n",
    "    SELECT SUM(push_distinct_size) AS sum_push_distinct, \n",
    "        toMonth(created_at) AS month,\n",
    "        toYear(created_at) AS year\n",
    "    FROM github_events\n",
    "    WHERE repo_name = \n",
    "'''\n",
    "q_repo='bitcoin/bitcoin'\n",
    "query_commits_R = '''\n",
    "AND \n",
    "        event_type = 'PushEvent' AND\n",
    "        /*created_at >= dateSub(MONTH, 3,toStartOfMonth(now())) AND\n",
    "        created_at < toStartOfMonth(now())*/\n",
    "        created_at >= dateSub(MONTH, 7,toStartOfMonth(now())) AND\n",
    "        created_at < dateSub(MONTH, 4,toStartOfMonth(now()))\n",
    "    GROUP BY month, year\n",
    "    ORDER BY year DESC, month DESC\n",
    ")\n",
    "'''\n",
    "query_commits=query_commits_L + '\\'' + q_repo + '\\'' + query_commits_R"
   ]
  },
  {
   "cell_type": "code",
   "execution_count": 163,
   "metadata": {},
   "outputs": [
    {
     "data": {
      "text/plain": [
       "[(365.0,)]"
      ]
     },
     "execution_count": 163,
     "metadata": {},
     "output_type": "execute_result"
    }
   ],
   "source": [
    "res=client.execute(query_commits)\n",
    "res"
   ]
  },
  {
   "cell_type": "code",
   "execution_count": 199,
   "metadata": {},
   "outputs": [],
   "source": [
    "# Read in 200_repos.csv\n",
    "dfr = pd.read_csv('200_repos.csv', index_col=0)\n",
    "# new df with only 2 columns\n",
    "# 'CMC_id' as index is maintained\n",
    "df = dfr[['repo','forge']].copy()"
   ]
  },
  {
   "cell_type": "code",
   "execution_count": 181,
   "metadata": {},
   "outputs": [
    {
     "data": {
      "text/plain": [
       "[(nan,)]"
      ]
     },
     "execution_count": 181,
     "metadata": {},
     "output_type": "execute_result"
    }
   ],
   "source": [
    "query_test_zero='''\n",
    "SELECT ROUND( SUM(sum_push_distinct) / COUNT(month), 2) AS average\n",
    "FROM\n",
    "(\n",
    "    SELECT SUM(push_distinct_size) AS sum_push_distinct, \n",
    "        toMonth(created_at) AS month,\n",
    "        toYear(created_at) AS year\n",
    "    FROM github_events\n",
    "    WHERE repo_name = 'Uniswap/uniswap-v2-core' AND \n",
    "        event_type = 'PushEvent' AND\n",
    "        /*created_at >= dateSub(MONTH, 3,toStartOfMonth(now())) AND\n",
    "        created_at < toStartOfMonth(now())*/\n",
    "        created_at >= dateSub(MONTH, 6,toStartOfMonth(now())) AND\n",
    "        created_at < dateSub(MONTH, 3,toStartOfMonth(now()))\n",
    "    GROUP BY month, year\n",
    "    ORDER BY year DESC, month DESC\n",
    ")'''\n",
    "res=client.execute(query_test_zero)\n",
    "res"
   ]
  },
  {
   "cell_type": "code",
   "execution_count": null,
   "metadata": {},
   "outputs": [],
   "source": [
    "import math\n",
    "if math.isnan(res[0][0]): print('not')\n",
    "else: print('dunno')\n"
   ]
  },
  {
   "cell_type": "code",
   "execution_count": 200,
   "metadata": {},
   "outputs": [],
   "source": [
    "for row in df.itertuples():\n",
    "    # only github for now as client is connected to github_events DB\n",
    "    if row.forge == 'github':\n",
    "        #forks = 0\n",
    "        repo = row.repo\n",
    "        # skip the NaN repos\n",
    "        if type(repo) == str:\n",
    "            query = query_commits_L + '\\'' + repo + '\\'' + query_commits_R\n",
    "            result = client.execute(query)\n",
    "            # query returns a tuple of list elements accessible by [first list][first item]\n",
    "            # average of no commits returns a nan\n",
    "            if math.isnan(result[0][0]):\n",
    "                df.at[row.Index, 'commits'] = 0\n",
    "            else: df.at[row.Index, 'commits'] = result[0][0]"
   ]
  },
  {
   "cell_type": "code",
   "execution_count": 202,
   "metadata": {},
   "outputs": [],
   "source": [
    "# write update to 200_commits.csv\n",
    "df.to_csv('200_commits.csv', encoding='utf-8', index=1)"
   ]
  },
  {
   "cell_type": "code",
   "execution_count": 168,
   "metadata": {},
   "outputs": [],
   "source": [
    "# update MERGED sheet with new data\n",
    "# 'CMC_id' is the key, however 'repo', and 'forge' are also merged\n",
    "# to prevent duplicate columns\n",
    "df_temp = pd.read_csv('200_merged.csv', index_col=0)\n",
    "dfm = pd.merge(df_temp,df,on=['CMC_id','repo','forge'])\n",
    "dfm.to_csv('200_merged.csv', encoding='utf-8', index=1)"
   ]
  },
  {
   "cell_type": "code",
   "execution_count": 207,
   "metadata": {},
   "outputs": [],
   "source": [
    "# total COMMENTS includes all commenting activity\n",
    "# any comments counts as activity and increase engagement\n",
    "# there are 3 event_type comment events:\n",
    "# >CommitCommentEvent\n",
    "# >IssueCommentEvent\n",
    "# >CommitCommentEvent\n",
    "#\n",
    "'''\n",
    "/* View distribution of comments*/\n",
    "SELECT \n",
    "    uniq(comment_id) AS total_comments,\n",
    "    uniqIf(comment_id, event_type = 'PullRequestReviewCommentEvent') AS pr_comments,\n",
    "    uniqIf(comment_id, event_type = 'IssueCommentEvent') AS issue_comments,\n",
    "    uniqIf(comment_id, event_type = 'CommitCommentEvent') AS commit_comments,\n",
    "    toMonth(created_at) AS month,\n",
    "    toYear(created_at) AS year\n",
    "FROM github_events\n",
    "WHERE \n",
    "   repo_name = 'bitcoin/bitcoin' AND\n",
    "   toYear(created_at) >= 2020\n",
    "GROUP BY month, year\n",
    "ORDER BY year DESC, month DESC\n",
    "'''\n",
    "# only Sept/Oct/Nov 2020 #\n",
    "QUERY_COMMENTS='''\n",
    "SELECT ROUND( SUM(total) / COUNT(month), 2) AS average\n",
    "FROM\n",
    "(\n",
    "SELECT \n",
    "    (\n",
    "        uniqIf(comment_id, event_type = 'PullRequestReviewCommentEvent')+\n",
    "        uniqIf(comment_id, event_type = 'IssueCommentEvent')+\n",
    "        uniqIf(comment_id, event_type = 'CommitCommentEvent') ) AS total,\n",
    "    toMonth(created_at) AS month,\n",
    "    toYear(created_at) AS year\n",
    "FROM github_events\n",
    "WHERE \n",
    "   repo_name = 'bitcoin/bitcoin' AND\n",
    "   /*created_at >= dateSub(MONTH, 3,toStartOfMonth(now())) AND\n",
    "   created_at < toStartOfMonth(now())*/\n",
    "   created_at >= dateSub(MONTH, 7,toStartOfMonth(now())) AND\n",
    "   created_at < dateSub(MONTH, 4,toStartOfMonth(now()))\n",
    "GROUP BY month, year\n",
    "ORDER BY year DESC, month DESC\n",
    ")\n",
    "'''\n",
    "query_L='''\n",
    "SELECT ROUND( SUM(total) / COUNT(month), 2) AS average\n",
    "FROM\n",
    "(\n",
    "SELECT \n",
    "    (\n",
    "        uniqIf(comment_id, event_type = 'PullRequestReviewCommentEvent')+\n",
    "        uniqIf(comment_id, event_type = 'IssueCommentEvent')+\n",
    "        uniqIf(comment_id, event_type = 'CommitCommentEvent') ) AS total,\n",
    "    toMonth(created_at) AS month,\n",
    "    toYear(created_at) AS year\n",
    "FROM github_events\n",
    "WHERE \n",
    "   repo_name = \n",
    "'''\n",
    "query_R='''\n",
    "AND\n",
    "   /*created_at >= dateSub(MONTH, 3,toStartOfMonth(now())) AND\n",
    "   created_at < toStartOfMonth(now())*/\n",
    "   created_at >= dateSub(MONTH, 7,toStartOfMonth(now())) AND\n",
    "   created_at < dateSub(MONTH, 4,toStartOfMonth(now()))\n",
    "GROUP BY month, year\n",
    "ORDER BY year DESC, month DESC\n",
    ")\n",
    "'''"
   ]
  },
  {
   "cell_type": "code",
   "execution_count": 209,
   "metadata": {},
   "outputs": [
    {
     "data": {
      "text/plain": [
       "[(3107.33,)]"
      ]
     },
     "execution_count": 209,
     "metadata": {},
     "output_type": "execute_result"
    }
   ],
   "source": [
    "res=client.execute(QUERY_COMMENTS)\n",
    "res"
   ]
  },
  {
   "cell_type": "code",
   "execution_count": 212,
   "metadata": {},
   "outputs": [],
   "source": [
    "#\n",
    "query_L='''\n",
    "SELECT ROUND( SUM(total) / COUNT(month), 2) AS average\n",
    "FROM\n",
    "(\n",
    "SELECT \n",
    "    (\n",
    "        uniqIf(comment_id, event_type = 'PullRequestReviewCommentEvent')+\n",
    "        uniqIf(comment_id, event_type = 'IssueCommentEvent')+\n",
    "        uniqIf(comment_id, event_type = 'CommitCommentEvent') ) AS total,\n",
    "    toMonth(created_at) AS month,\n",
    "    toYear(created_at) AS year\n",
    "FROM github_events\n",
    "WHERE \n",
    "   repo_name = \n",
    "'''\n",
    "query_R='''\n",
    "AND\n",
    "   /*created_at >= dateSub(MONTH, 3,toStartOfMonth(now())) AND\n",
    "   created_at < toStartOfMonth(now())*/\n",
    "   created_at >= dateSub(MONTH, 7,toStartOfMonth(now())) AND\n",
    "   created_at < dateSub(MONTH, 4,toStartOfMonth(now()))\n",
    "GROUP BY month, year\n",
    "ORDER BY year DESC, month DESC\n",
    ")\n",
    "'''\n",
    "'''\n",
    "@column name of the column to be added to the dataframe\n",
    "@query_L\n",
    "@query_R\n",
    "@df dataframe\n",
    "'''\n",
    "def runQuery(column_name, query_L, query_R, df):\n",
    "    for row in df.itertuples():\n",
    "        # only github for now as client is connected to github_events DB\n",
    "        if row.forge == 'github':\n",
    "            repo = row.repo\n",
    "            # skip the NaN repos\n",
    "            if type(repo) == str:\n",
    "                query = query_L + '\\'' + repo + '\\'' + query_R\n",
    "                result = client.execute(query)\n",
    "                # query returns a tuple of list elements accessible by [first list][first item]\n",
    "                # average of zero returns a nan\n",
    "                if math.isnan(result[0][0]):\n",
    "                    df.at[row.Index, column_name] = 0\n",
    "                else: df.at[row.Index, column_name] = result[0][0]\n",
    "    return 'dataframe updated'\n"
   ]
  },
  {
   "cell_type": "code",
   "execution_count": 213,
   "metadata": {},
   "outputs": [],
   "source": [
    "# Read in 200_repos.csv\n",
    "dfr = pd.read_csv('200_repos.csv', index_col=0)\n",
    "# new df with only 2 columns\n",
    "# 'CMC_id' as index is maintained\n",
    "df = dfr[['repo','forge']].copy()"
   ]
  },
  {
   "cell_type": "code",
   "execution_count": 217,
   "metadata": {},
   "outputs": [
    {
     "name": "stderr",
     "output_type": "stream",
     "text": [
      "Error on localhost:9000 ping: [WinError 10053] An established connection was aborted by the software in your host machine\n",
      "Connection was closed, reconnecting.\n"
     ]
    },
    {
     "data": {
      "text/plain": [
       "'done'"
      ]
     },
     "execution_count": 217,
     "metadata": {},
     "output_type": "execute_result"
    }
   ],
   "source": [
    "runQuery('comments',query_L,query_R,df)"
   ]
  },
  {
   "cell_type": "code",
   "execution_count": 220,
   "metadata": {},
   "outputs": [],
   "source": [
    "# update MERGED sheet with new data\n",
    "# 'CMC_id' is the key, however 'repo', and 'forge' are also merged\n",
    "# to prevent duplicate columns\n",
    "df_temp = pd.read_csv('200_merged.csv', index_col=0)\n",
    "dfm = pd.merge(df_temp,df,on=['CMC_id','repo','forge'])\n",
    "dfm.to_csv('200_merged.csv', encoding='utf-8', index=1)"
   ]
  },
  {
   "cell_type": "code",
   "execution_count": 224,
   "metadata": {},
   "outputs": [],
   "source": [
    "# view all PR activity sorted into: opened, closed, reopened\n",
    "'''\n",
    "SELECT  COUNT() AS total,\n",
    "    SUM(action = 'opened') AS opened,\n",
    "    SUM(action = 'closed') AS closed,\n",
    "    SUM(action = 'reopened') AS reopened,\n",
    "    toYear(created_at) AS year, \n",
    "    toMonth(created_at) AS month\n",
    "FROM github_events\n",
    "WHERE repo_name = 'bitcoin/bitcoin' AND \n",
    "    toYear(created_at) >= '2019' AND \n",
    "    event_type = 'PullRequestEvent'\n",
    "GROUP BY month, year\n",
    "ORDER BY year DESC, month DESC\n",
    "'''\n",
    "'''\n",
    "SELECT\n",
    "    ROUND( SUM(opened) / COUNT(month), 2) AS average\n",
    "FROM\n",
    "(\n",
    "    SELECT  \n",
    "        SUM(action = 'opened') AS opened,\n",
    "        toYear(created_at) AS year, \n",
    "        toMonth(created_at) AS month\n",
    "    FROM github_events\n",
    "    WHERE repo_name = 'bitcoin/bitcoin' AND \n",
    "        event_type = 'PullRequestEvent' AND \n",
    "        created_at >= dateSub(MONTH, 7,toStartOfMonth(now())) AND\n",
    "        created_at < dateSub(MONTH, 4,toStartOfMonth(now()))\n",
    "    GROUP BY month, year\n",
    "    ORDER BY year DESC, month DESC\n",
    ")\n",
    "'''\n",
    "query_L='''\n",
    "SELECT\n",
    "    ROUND( SUM(opened) / COUNT(month), 2) AS average\n",
    "FROM\n",
    "(\n",
    "    SELECT  \n",
    "        SUM(action = 'opened') AS opened,\n",
    "        toYear(created_at) AS year, \n",
    "        toMonth(created_at) AS month\n",
    "    FROM github_events\n",
    "    WHERE repo_name = \n",
    "'''\n",
    "query_R='''\n",
    "AND \n",
    "        event_type = 'PullRequestEvent' AND \n",
    "        created_at >= dateSub(MONTH, 7,toStartOfMonth(now())) AND\n",
    "        created_at < dateSub(MONTH, 4,toStartOfMonth(now()))\n",
    "    GROUP BY month, year\n",
    "    ORDER BY year DESC, month DESC\n",
    ")\n",
    "'''"
   ]
  },
  {
   "cell_type": "code",
   "execution_count": 225,
   "metadata": {},
   "outputs": [
    {
     "data": {
      "text/plain": [
       "'done'"
      ]
     },
     "execution_count": 225,
     "metadata": {},
     "output_type": "execute_result"
    }
   ],
   "source": [
    "# Read in 200_repos.csv\n",
    "dfr = pd.read_csv('200_repos.csv', index_col=0)\n",
    "# new df with only 2 columns\n",
    "# 'CMC_id' as index is maintained\n",
    "df = dfr[['repo','forge']].copy()\n",
    "runQuery('PR_open',query_L,query_R,df)\n"
   ]
  },
  {
   "cell_type": "code",
   "execution_count": 226,
   "metadata": {},
   "outputs": [],
   "source": [
    "# update MERGED sheet with new data\n",
    "# 'CMC_id' is the key, however 'repo', and 'forge' are also merged\n",
    "# to prevent duplicate columns\n",
    "df_temp = pd.read_csv('200_merged.csv', index_col=0)\n",
    "dfm = pd.merge(df_temp,df,on=['CMC_id','repo','forge'])\n",
    "dfm.to_csv('200_merged.csv', encoding='utf-8', index=1)"
   ]
  },
  {
   "cell_type": "code",
   "execution_count": 227,
   "metadata": {},
   "outputs": [
    {
     "data": {
      "text/html": [
       "<div>\n",
       "<style scoped>\n",
       "    .dataframe tbody tr th:only-of-type {\n",
       "        vertical-align: middle;\n",
       "    }\n",
       "\n",
       "    .dataframe tbody tr th {\n",
       "        vertical-align: top;\n",
       "    }\n",
       "\n",
       "    .dataframe thead th {\n",
       "        text-align: right;\n",
       "    }\n",
       "</style>\n",
       "<table border=\"1\" class=\"dataframe\">\n",
       "  <thead>\n",
       "    <tr style=\"text-align: right;\">\n",
       "      <th></th>\n",
       "      <th>repo</th>\n",
       "      <th>forge</th>\n",
       "      <th>stars</th>\n",
       "      <th>forks</th>\n",
       "      <th>authors</th>\n",
       "      <th>commits</th>\n",
       "      <th>comments</th>\n",
       "      <th>PR_open</th>\n",
       "    </tr>\n",
       "    <tr>\n",
       "      <th>CMC_id</th>\n",
       "      <th></th>\n",
       "      <th></th>\n",
       "      <th></th>\n",
       "      <th></th>\n",
       "      <th></th>\n",
       "      <th></th>\n",
       "      <th></th>\n",
       "      <th></th>\n",
       "    </tr>\n",
       "  </thead>\n",
       "  <tbody>\n",
       "    <tr>\n",
       "      <th>1</th>\n",
       "      <td>bitcoin/bitcoin</td>\n",
       "      <td>github</td>\n",
       "      <td>53646.0</td>\n",
       "      <td>26356.0</td>\n",
       "      <td>130.50</td>\n",
       "      <td>365.00</td>\n",
       "      <td>3107.33</td>\n",
       "      <td>154.67</td>\n",
       "    </tr>\n",
       "    <tr>\n",
       "      <th>1027</th>\n",
       "      <td>ethereum/go-ethereum</td>\n",
       "      <td>github</td>\n",
       "      <td>30598.0</td>\n",
       "      <td>12090.0</td>\n",
       "      <td>98.75</td>\n",
       "      <td>65.67</td>\n",
       "      <td>666.33</td>\n",
       "      <td>74.33</td>\n",
       "    </tr>\n",
       "    <tr>\n",
       "      <th>1839</th>\n",
       "      <td>binance-chain/bsc</td>\n",
       "      <td>github</td>\n",
       "      <td>55.0</td>\n",
       "      <td>25.0</td>\n",
       "      <td>8.00</td>\n",
       "      <td>8.00</td>\n",
       "      <td>9.00</td>\n",
       "      <td>4.50</td>\n",
       "    </tr>\n",
       "    <tr>\n",
       "      <th>825</th>\n",
       "      <td>NaN</td>\n",
       "      <td>private</td>\n",
       "      <td>NaN</td>\n",
       "      <td>NaN</td>\n",
       "      <td>NaN</td>\n",
       "      <td>NaN</td>\n",
       "      <td>NaN</td>\n",
       "      <td>NaN</td>\n",
       "    </tr>\n",
       "    <tr>\n",
       "      <th>2010</th>\n",
       "      <td>input-output-hk/cardano-node</td>\n",
       "      <td>github</td>\n",
       "      <td>357.0</td>\n",
       "      <td>139.0</td>\n",
       "      <td>43.25</td>\n",
       "      <td>1050.33</td>\n",
       "      <td>651.33</td>\n",
       "      <td>97.00</td>\n",
       "    </tr>\n",
       "    <tr>\n",
       "      <th>...</th>\n",
       "      <td>...</td>\n",
       "      <td>...</td>\n",
       "      <td>...</td>\n",
       "      <td>...</td>\n",
       "      <td>...</td>\n",
       "      <td>...</td>\n",
       "      <td>...</td>\n",
       "      <td>...</td>\n",
       "    </tr>\n",
       "    <tr>\n",
       "      <th>1993</th>\n",
       "      <td>NaN</td>\n",
       "      <td>other</td>\n",
       "      <td>NaN</td>\n",
       "      <td>NaN</td>\n",
       "      <td>NaN</td>\n",
       "      <td>NaN</td>\n",
       "      <td>NaN</td>\n",
       "      <td>NaN</td>\n",
       "    </tr>\n",
       "    <tr>\n",
       "      <th>541</th>\n",
       "      <td>syscoin</td>\n",
       "      <td>github</td>\n",
       "      <td>NaN</td>\n",
       "      <td>0.0</td>\n",
       "      <td>NaN</td>\n",
       "      <td>NaN</td>\n",
       "      <td>0.00</td>\n",
       "      <td>0.00</td>\n",
       "    </tr>\n",
       "    <tr>\n",
       "      <th>3714</th>\n",
       "      <td>legalthings</td>\n",
       "      <td>github</td>\n",
       "      <td>NaN</td>\n",
       "      <td>0.0</td>\n",
       "      <td>NaN</td>\n",
       "      <td>NaN</td>\n",
       "      <td>0.00</td>\n",
       "      <td>0.00</td>\n",
       "    </tr>\n",
       "    <tr>\n",
       "      <th>3437</th>\n",
       "      <td>ABBCTEAM</td>\n",
       "      <td>github</td>\n",
       "      <td>NaN</td>\n",
       "      <td>0.0</td>\n",
       "      <td>NaN</td>\n",
       "      <td>NaN</td>\n",
       "      <td>0.00</td>\n",
       "      <td>0.00</td>\n",
       "    </tr>\n",
       "    <tr>\n",
       "      <th>4705</th>\n",
       "      <td>paxosglobal/paxos-gold-contract</td>\n",
       "      <td>github</td>\n",
       "      <td>7.0</td>\n",
       "      <td>6.0</td>\n",
       "      <td>1.00</td>\n",
       "      <td>NaN</td>\n",
       "      <td>0.00</td>\n",
       "      <td>3.00</td>\n",
       "    </tr>\n",
       "  </tbody>\n",
       "</table>\n",
       "<p>201 rows × 8 columns</p>\n",
       "</div>"
      ],
      "text/plain": [
       "                                   repo    forge    stars    forks  authors  \\\n",
       "CMC_id                                                                        \n",
       "1                       bitcoin/bitcoin   github  53646.0  26356.0   130.50   \n",
       "1027               ethereum/go-ethereum   github  30598.0  12090.0    98.75   \n",
       "1839                  binance-chain/bsc   github     55.0     25.0     8.00   \n",
       "825                                 NaN  private      NaN      NaN      NaN   \n",
       "2010       input-output-hk/cardano-node   github    357.0    139.0    43.25   \n",
       "...                                 ...      ...      ...      ...      ...   \n",
       "1993                                NaN    other      NaN      NaN      NaN   \n",
       "541                             syscoin   github      NaN      0.0      NaN   \n",
       "3714                        legalthings   github      NaN      0.0      NaN   \n",
       "3437                           ABBCTEAM   github      NaN      0.0      NaN   \n",
       "4705    paxosglobal/paxos-gold-contract   github      7.0      6.0     1.00   \n",
       "\n",
       "        commits  comments  PR_open  \n",
       "CMC_id                              \n",
       "1        365.00   3107.33   154.67  \n",
       "1027      65.67    666.33    74.33  \n",
       "1839       8.00      9.00     4.50  \n",
       "825         NaN       NaN      NaN  \n",
       "2010    1050.33    651.33    97.00  \n",
       "...         ...       ...      ...  \n",
       "1993        NaN       NaN      NaN  \n",
       "541         NaN      0.00     0.00  \n",
       "3714        NaN      0.00     0.00  \n",
       "3437        NaN      0.00     0.00  \n",
       "4705        NaN      0.00     3.00  \n",
       "\n",
       "[201 rows x 8 columns]"
      ]
     },
     "execution_count": 227,
     "metadata": {},
     "output_type": "execute_result"
    }
   ],
   "source": [
    "dfm"
   ]
  },
  {
   "cell_type": "code",
   "execution_count": 234,
   "metadata": {},
   "outputs": [
    {
     "name": "stdout",
     "output_type": "stream",
     "text": [
      "........................................................................................................................................................................................................."
     ]
    },
    {
     "data": {
      "text/html": [
       "<div>\n",
       "<style scoped>\n",
       "    .dataframe tbody tr th:only-of-type {\n",
       "        vertical-align: middle;\n",
       "    }\n",
       "\n",
       "    .dataframe tbody tr th {\n",
       "        vertical-align: top;\n",
       "    }\n",
       "\n",
       "    .dataframe thead th {\n",
       "        text-align: right;\n",
       "    }\n",
       "</style>\n",
       "<table border=\"1\" class=\"dataframe\">\n",
       "  <thead>\n",
       "    <tr style=\"text-align: right;\">\n",
       "      <th></th>\n",
       "      <th>source_code</th>\n",
       "      <th>forge</th>\n",
       "      <th>citicality</th>\n",
       "    </tr>\n",
       "    <tr>\n",
       "      <th>CMC_id</th>\n",
       "      <th></th>\n",
       "      <th></th>\n",
       "      <th></th>\n",
       "    </tr>\n",
       "  </thead>\n",
       "  <tbody>\n",
       "    <tr>\n",
       "      <th>1</th>\n",
       "      <td>https://github.com/bitcoin/bitcoin</td>\n",
       "      <td>github</td>\n",
       "      <td>0.86864</td>\n",
       "    </tr>\n",
       "    <tr>\n",
       "      <th>1027</th>\n",
       "      <td>https://github.com/ethereum/go-ethereum</td>\n",
       "      <td>github</td>\n",
       "      <td>0.82297</td>\n",
       "    </tr>\n",
       "    <tr>\n",
       "      <th>1839</th>\n",
       "      <td>https://github.com/binance-chain/bsc</td>\n",
       "      <td>github</td>\n",
       "      <td>NaN</td>\n",
       "    </tr>\n",
       "    <tr>\n",
       "      <th>825</th>\n",
       "      <td>private</td>\n",
       "      <td>private</td>\n",
       "      <td>NaN</td>\n",
       "    </tr>\n",
       "    <tr>\n",
       "      <th>2010</th>\n",
       "      <td>https://github.com/input-output-hk/cardano-node</td>\n",
       "      <td>github</td>\n",
       "      <td>0.63504</td>\n",
       "    </tr>\n",
       "    <tr>\n",
       "      <th>...</th>\n",
       "      <td>...</td>\n",
       "      <td>...</td>\n",
       "      <td>...</td>\n",
       "    </tr>\n",
       "    <tr>\n",
       "      <th>1993</th>\n",
       "      <td>none</td>\n",
       "      <td>other</td>\n",
       "      <td>NaN</td>\n",
       "    </tr>\n",
       "    <tr>\n",
       "      <th>541</th>\n",
       "      <td>https://github.com/syscoin</td>\n",
       "      <td>github</td>\n",
       "      <td>NaN</td>\n",
       "    </tr>\n",
       "    <tr>\n",
       "      <th>3714</th>\n",
       "      <td>https://github.com/legalthings</td>\n",
       "      <td>github</td>\n",
       "      <td>NaN</td>\n",
       "    </tr>\n",
       "    <tr>\n",
       "      <th>3437</th>\n",
       "      <td>https://github.com/ABBCTEAM</td>\n",
       "      <td>github</td>\n",
       "      <td>NaN</td>\n",
       "    </tr>\n",
       "    <tr>\n",
       "      <th>4705</th>\n",
       "      <td>https://github.com/paxosglobal/paxos-gold-cont...</td>\n",
       "      <td>github</td>\n",
       "      <td>NaN</td>\n",
       "    </tr>\n",
       "  </tbody>\n",
       "</table>\n",
       "<p>201 rows × 3 columns</p>\n",
       "</div>"
      ],
      "text/plain": [
       "                                              source_code    forge  citicality\n",
       "CMC_id                                                                        \n",
       "1                      https://github.com/bitcoin/bitcoin   github     0.86864\n",
       "1027              https://github.com/ethereum/go-ethereum   github     0.82297\n",
       "1839                 https://github.com/binance-chain/bsc   github         NaN\n",
       "825                                               private  private         NaN\n",
       "2010      https://github.com/input-output-hk/cardano-node   github     0.63504\n",
       "...                                                   ...      ...         ...\n",
       "1993                                                 none    other         NaN\n",
       "541                            https://github.com/syscoin   github         NaN\n",
       "3714                       https://github.com/legalthings   github         NaN\n",
       "3437                          https://github.com/ABBCTEAM   github         NaN\n",
       "4705    https://github.com/paxosglobal/paxos-gold-cont...   github         NaN\n",
       "\n",
       "[201 rows x 3 columns]"
      ]
     },
     "execution_count": 234,
     "metadata": {},
     "output_type": "execute_result"
    }
   ],
   "source": [
    "import sys,time\n",
    "#criticality (again)\n",
    "# >>>>!!!!\n",
    "# minor problem here with ETC double-IDs...\n",
    "# !!!!>>>>\n",
    "# Read in 200_repos.csv\n",
    "dfr = pd.read_csv('200_repos.csv', index_col=0)\n",
    "# new df with only 2 columns\n",
    "# 'CMC_id' as index is maintained\n",
    "df = dfr[['source_code','forge']].copy()\n",
    "dfc = pd.read_csv('Project_Criticality_all.csv')\n",
    "for row in df.itertuples():\n",
    "  # only search for strings; floats (NaN) are skipped\n",
    "  if isinstance(row.source_code, str):\n",
    "    url = str(row.source_code)\n",
    "    # loop through df2 (criticality) looking for source code url\n",
    "    for row2 in dfc.itertuples():\n",
    "      if url == row2.url:\n",
    "        df.at[row.Index, 'citicality'] = row2.criticality_score\n",
    "        break\n",
    "    sys.stdout.write(\".\")\n",
    "    sys.stdout.flush()"
   ]
  },
  {
   "cell_type": "code",
   "execution_count": 246,
   "metadata": {},
   "outputs": [],
   "source": [
    "# update MERGED sheet with new data\n",
    "# 'CMC_id' is the key, however 'repo', and 'forge' are also merged\n",
    "# to prevent duplicate columns\n",
    "df.drop(columns=['source_code'], inplace=True)\n",
    "df_temp = pd.read_csv('200_merged.csv', index_col=0)\n",
    "dfm = pd.merge(df_temp,df,on=['CMC_id','forge'])\n",
    "dfm.to_csv('200_merged.csv', encoding='utf-8', index=1)"
   ]
  },
  {
   "cell_type": "code",
   "execution_count": null,
   "metadata": {},
   "outputs": [],
   "source": []
  }
 ],
 "metadata": {
  "kernelspec": {
   "display_name": "Python 3",
   "language": "python",
   "name": "python3"
  },
  "language_info": {
   "codemirror_mode": {
    "name": "ipython",
    "version": 3
   },
   "file_extension": ".py",
   "mimetype": "text/x-python",
   "name": "python",
   "nbconvert_exporter": "python",
   "pygments_lexer": "ipython3",
   "version": "3.8.5"
  }
 },
 "nbformat": 4,
 "nbformat_minor": 4
}
