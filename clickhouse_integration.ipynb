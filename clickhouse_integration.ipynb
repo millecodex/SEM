{
 "cells": [
  {
   "cell_type": "code",
   "execution_count": null,
   "metadata": {},
   "outputs": [],
   "source": [
    "'''\n",
    "# W O R K   F L O W  #\n",
    "1. download github data in native clickhouse format (74.6 gb, ~10hours to download)\n",
    "2. clickhouse server must be running\n",
    "see: https://clickhouse.tech/docs/en/getting-started/install/\n",
    " >sudo service clickhouse-server start (may need sudo -u japple)\n",
    " >clickhouse-client\n",
    "# Insert the database into clickhouse\n",
    "3. create the db tables:\n",
    " >CREATE TABLE github_events ...\n",
    "see https://github-sql.github.io/explorer/#install-clickhouse\n",
    "4. Insert the DB file into clickhouse <E:\\Documents\\Clickhouse Github data\\github_events_v2.native.xz>\n",
    "5. run code here to connect to clickhouse client and manipulate data\n",
    "#\n",
    "# Note the clickhouse driver (python) communicates with the clickhouse server via a native TCP/IP protocol \n",
    "# that ships data as typed values; this will cause problems when INSERT-ing into a DB, however I don't see\n",
    "# this as an issue\n",
    "'''\n"
   ]
  },
  {
   "cell_type": "code",
   "execution_count": 1,
   "metadata": {},
   "outputs": [],
   "source": [
    "from sqlalchemy import create_engine\n",
    "from clickhouse_driver import Client\n",
    "\n",
    "# dependencies\n",
    "# >ipython-sql\n",
    "# install by command prompt:\n",
    "# >conda install -yc conda-forge ipython-sql"
   ]
  },
  {
   "cell_type": "code",
   "execution_count": 2,
   "metadata": {},
   "outputs": [],
   "source": [
    "client = Client('localhost')"
   ]
  },
  {
   "cell_type": "code",
   "execution_count": 3,
   "metadata": {},
   "outputs": [],
   "source": [
    "%load_ext sql"
   ]
  },
  {
   "cell_type": "code",
   "execution_count": null,
   "metadata": {},
   "outputs": [],
   "source": [
    "result = client.execute('SELECT now(), version()')"
   ]
  },
  {
   "cell_type": "code",
   "execution_count": null,
   "metadata": {},
   "outputs": [],
   "source": [
    "print(result)"
   ]
  },
  {
   "cell_type": "code",
   "execution_count": null,
   "metadata": {},
   "outputs": [],
   "source": [
    "result = client.execute('SELECT now(), version()')\n",
    "print(\"RESULT: {0}: {1}\".format(type(result), result))\n",
    "for t in result:\n",
    "    print(\" ROW: {0}: {1}\".format(type(t), t))\n",
    "    for v in t:\n",
    "        print(\"  COLUMN: {0}: {1}\".format(type(v), v))"
   ]
  },
  {
   "cell_type": "code",
   "execution_count": null,
   "metadata": {},
   "outputs": [],
   "source": [
    "print(client.execute('SHOW TABLES'))"
   ]
  },
  {
   "cell_type": "code",
   "execution_count": null,
   "metadata": {},
   "outputs": [],
   "source": [
    "query = '''\n",
    "SELECT\n",
    "    repo_name,\n",
    "    count()\n",
    "FROM github_events\n",
    "WHERE (event_type = 'WatchEvent') AND (repo_name LIKE '%_/_%')\n",
    "GROUP BY repo_name\n",
    "ORDER BY length(repo_name) ASC\n",
    "LIMIT 11\n",
    "'''"
   ]
  },
  {
   "cell_type": "code",
   "execution_count": null,
   "metadata": {},
   "outputs": [],
   "source": [
    "# load CSV file into dataframe\n",
    "# get test dataframe with different repos\n",
    "#  loop through dataframe\n",
    "#   pull repo\n",
    "#   build query\n",
    "#   run query\n",
    "#   write to dataframe\n"
   ]
  },
  {
   "cell_type": "code",
   "execution_count": 4,
   "metadata": {},
   "outputs": [],
   "source": [
    "import pandas as pd\n",
    "# not yet needed here\n",
    "import time\n",
    "import math"
   ]
  },
  {
   "cell_type": "code",
   "execution_count": 77,
   "metadata": {},
   "outputs": [],
   "source": [
    "# Read CSV file into DataFrame df\n",
    "# 200_repos_ready.csv has no index, CMC_id is in first column\n",
    "df = pd.read_csv('200_repos_ready.csv', index_col=0)\n",
    "# assign NaN to empty string (empty cells are read in as nan)\n"
   ]
  },
  {
   "cell_type": "code",
   "execution_count": 106,
   "metadata": {},
   "outputs": [],
   "source": [
    "# subset dataframes for testing\n",
    "# use .copy() as slicing will not allow for assignment\n",
    "df10 = df.iloc[:10].copy()\n",
    "df33 = df.iloc[:33].copy()"
   ]
  },
  {
   "cell_type": "code",
   "execution_count": 16,
   "metadata": {},
   "outputs": [],
   "source": [
    "query_stars_L = '''\n",
    "SELECT \n",
    "    count() \n",
    "FROM github_events \n",
    "WHERE event_type = 'WatchEvent' \n",
    "    AND repo_name ='''\n",
    "query_stars_R = '''\n",
    "GROUP BY action\n",
    "'''\n",
    "repo = '''\n",
    "'HuobiGroup/huobi-eco-chain' \n",
    "'''"
   ]
  },
  {
   "cell_type": "code",
   "execution_count": 124,
   "metadata": {},
   "outputs": [],
   "source": [
    "query = '''\n",
    "SELECT \n",
    "    count() \n",
    "FROM github_events \n",
    "WHERE event_type = 'WatchEvent' \n",
    "    AND repo_name =\n",
    "'binance-chain/bsc'\n",
    "GROUP BY action\n",
    "'''"
   ]
  },
  {
   "cell_type": "code",
   "execution_count": 127,
   "metadata": {},
   "outputs": [],
   "source": [
    "query2 = '''\n",
    "SELECT \n",
    "    count() \n",
    "FROM github_events \n",
    "WHERE event_type = 'WatchEvent' \n",
    "    AND repo_name =\n",
    "'HuobiGroup/huobi-eco-chain'\n",
    "GROUP BY action\n",
    "'''"
   ]
  },
  {
   "cell_type": "code",
   "execution_count": 125,
   "metadata": {},
   "outputs": [
    {
     "name": "stdout",
     "output_type": "stream",
     "text": [
      "\n",
      "SELECT \n",
      "    count() \n",
      "FROM github_events \n",
      "WHERE event_type = 'WatchEvent' \n",
      "    AND repo_name =\n",
      "'binance-chain/bsc'\n",
      "GROUP BY action\n",
      "\n"
     ]
    }
   ],
   "source": [
    "print(query)"
   ]
  },
  {
   "cell_type": "code",
   "execution_count": 130,
   "metadata": {},
   "outputs": [
    {
     "name": "stdout",
     "output_type": "stream",
     "text": [
      "[(55,)]\n",
      "[]\n"
     ]
    }
   ],
   "source": [
    "res=client.execute(query)\n",
    "res2=client.execute(query2)\n",
    "print(res)\n",
    "print(res2)"
   ]
  },
  {
   "cell_type": "code",
   "execution_count": 139,
   "metadata": {},
   "outputs": [
    {
     "name": "stdout",
     "output_type": "stream",
     "text": [
      "not\n"
     ]
    }
   ],
   "source": [
    "if not res2: print('not')"
   ]
  },
  {
   "cell_type": "code",
   "execution_count": 157,
   "metadata": {},
   "outputs": [],
   "source": [
    "# initialize new column to null/None\n",
    "df['stars']=None\n",
    "# iterate the dataframe as follows:\n",
    "'''\n",
    "loop through dataframe\n",
    "  pull repo\n",
    "  build query\n",
    "  run query\n",
    "  update dataframe\n",
    "'''\n",
    "for row in df.itertuples():\n",
    "    # only github for now as client is connect to github_events DB\n",
    "    if row.forge == 'github':\n",
    "        stars = 0\n",
    "        repo = row.repo\n",
    "        # skip the NaN repos\n",
    "        if type(repo) == str:\n",
    "            query = query_stars_L + '\\''+repo+'\\'' + query_stars_R\n",
    "            stars = client.execute(query)\n",
    "            # query returns a tuple of list elements accessible by [first list][first item]\n",
    "            # no stars returns an empty list\n",
    "            if not stars:\n",
    "                continue\n",
    "            else: df.at[row.Index, 'stars'] = stars[0][0]\n",
    "\n",
    "        "
   ]
  },
  {
   "cell_type": "code",
   "execution_count": 167,
   "metadata": {},
   "outputs": [],
   "source": [
    "# write update to 200_copy_stars.csv\n",
    "# note beginning of script: pd.read_csv('200_repos_ready.csv', index_col=0)\n",
    "df.to_csv('200_copy_stars.csv', encoding='utf-8', index=1)"
   ]
  },
  {
   "cell_type": "code",
   "execution_count": 164,
   "metadata": {},
   "outputs": [
    {
     "data": {
      "text/html": [
       "<div>\n",
       "<style scoped>\n",
       "    .dataframe tbody tr th:only-of-type {\n",
       "        vertical-align: middle;\n",
       "    }\n",
       "\n",
       "    .dataframe tbody tr th {\n",
       "        vertical-align: top;\n",
       "    }\n",
       "\n",
       "    .dataframe thead th {\n",
       "        text-align: right;\n",
       "    }\n",
       "</style>\n",
       "<table border=\"1\" class=\"dataframe\">\n",
       "  <thead>\n",
       "    <tr style=\"text-align: right;\">\n",
       "      <th></th>\n",
       "      <th>CMC_rank</th>\n",
       "      <th>name</th>\n",
       "      <th>ticker</th>\n",
       "      <th>source_code</th>\n",
       "      <th>mod_source</th>\n",
       "      <th>type</th>\n",
       "      <th>forge</th>\n",
       "      <th>repo</th>\n",
       "      <th>notes</th>\n",
       "      <th>stars</th>\n",
       "    </tr>\n",
       "    <tr>\n",
       "      <th>CMC_id</th>\n",
       "      <th></th>\n",
       "      <th></th>\n",
       "      <th></th>\n",
       "      <th></th>\n",
       "      <th></th>\n",
       "      <th></th>\n",
       "      <th></th>\n",
       "      <th></th>\n",
       "      <th></th>\n",
       "      <th></th>\n",
       "    </tr>\n",
       "  </thead>\n",
       "  <tbody>\n",
       "    <tr>\n",
       "      <th>1</th>\n",
       "      <td>1</td>\n",
       "      <td>Bitcoin</td>\n",
       "      <td>BTC</td>\n",
       "      <td>https://github.com/bitcoin/bitcoin</td>\n",
       "      <td>y</td>\n",
       "      <td>NaN</td>\n",
       "      <td>github</td>\n",
       "      <td>bitcoin/bitcoin</td>\n",
       "      <td>NaN</td>\n",
       "      <td>53646</td>\n",
       "    </tr>\n",
       "    <tr>\n",
       "      <th>1027</th>\n",
       "      <td>2</td>\n",
       "      <td>Ethereum</td>\n",
       "      <td>ETH</td>\n",
       "      <td>https://github.com/ethereum/go-ethereum</td>\n",
       "      <td>y</td>\n",
       "      <td>NaN</td>\n",
       "      <td>github</td>\n",
       "      <td>ethereum/go-ethereum</td>\n",
       "      <td>NaN</td>\n",
       "      <td>30598</td>\n",
       "    </tr>\n",
       "    <tr>\n",
       "      <th>1839</th>\n",
       "      <td>3</td>\n",
       "      <td>Binance Coin</td>\n",
       "      <td>BNB</td>\n",
       "      <td>https://github.com/binance-chain/bsc</td>\n",
       "      <td>y</td>\n",
       "      <td>NaN</td>\n",
       "      <td>github</td>\n",
       "      <td>binance-chain/bsc</td>\n",
       "      <td>fork of go-ethereum</td>\n",
       "      <td>55</td>\n",
       "    </tr>\n",
       "    <tr>\n",
       "      <th>825</th>\n",
       "      <td>4</td>\n",
       "      <td>Tether</td>\n",
       "      <td>USDT</td>\n",
       "      <td>private</td>\n",
       "      <td>y</td>\n",
       "      <td>NaN</td>\n",
       "      <td>private</td>\n",
       "      <td>NaN</td>\n",
       "      <td>NaN</td>\n",
       "      <td>None</td>\n",
       "    </tr>\n",
       "    <tr>\n",
       "      <th>2010</th>\n",
       "      <td>5</td>\n",
       "      <td>Cardano</td>\n",
       "      <td>ADA</td>\n",
       "      <td>https://github.com/input-output-hk/cardano-node</td>\n",
       "      <td>y</td>\n",
       "      <td>NaN</td>\n",
       "      <td>github</td>\n",
       "      <td>input-output-hk/cardano-node</td>\n",
       "      <td>IOHK</td>\n",
       "      <td>357</td>\n",
       "    </tr>\n",
       "  </tbody>\n",
       "</table>\n",
       "</div>"
      ],
      "text/plain": [
       "        CMC_rank          name ticker  \\\n",
       "CMC_id                                  \n",
       "1              1       Bitcoin    BTC   \n",
       "1027           2      Ethereum    ETH   \n",
       "1839           3  Binance Coin    BNB   \n",
       "825            4        Tether   USDT   \n",
       "2010           5       Cardano    ADA   \n",
       "\n",
       "                                            source_code mod_source type  \\\n",
       "CMC_id                                                                    \n",
       "1                    https://github.com/bitcoin/bitcoin          y  NaN   \n",
       "1027            https://github.com/ethereum/go-ethereum          y  NaN   \n",
       "1839               https://github.com/binance-chain/bsc          y  NaN   \n",
       "825                                             private          y  NaN   \n",
       "2010    https://github.com/input-output-hk/cardano-node          y  NaN   \n",
       "\n",
       "          forge                          repo                notes  stars  \n",
       "CMC_id                                                                     \n",
       "1        github               bitcoin/bitcoin                  NaN  53646  \n",
       "1027     github          ethereum/go-ethereum                  NaN  30598  \n",
       "1839     github             binance-chain/bsc  fork of go-ethereum     55  \n",
       "825     private                           NaN                  NaN   None  \n",
       "2010     github  input-output-hk/cardano-node                 IOHK    357  "
      ]
     },
     "execution_count": 164,
     "metadata": {},
     "output_type": "execute_result"
    }
   ],
   "source": [
    "df.head()"
   ]
  },
  {
   "cell_type": "code",
   "execution_count": null,
   "metadata": {},
   "outputs": [],
   "source": []
  }
 ],
 "metadata": {
  "kernelspec": {
   "display_name": "Python 3",
   "language": "python",
   "name": "python3"
  },
  "language_info": {
   "codemirror_mode": {
    "name": "ipython",
    "version": 3
   },
   "file_extension": ".py",
   "mimetype": "text/x-python",
   "name": "python",
   "nbconvert_exporter": "python",
   "pygments_lexer": "ipython3",
   "version": "3.8.5"
  }
 },
 "nbformat": 4,
 "nbformat_minor": 4
}
