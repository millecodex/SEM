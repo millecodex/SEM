{
 "cells": [
  {
   "cell_type": "code",
   "execution_count": null,
   "metadata": {},
   "outputs": [],
   "source": [
    "\"\"\"\n",
    "----------------------------------------------\n",
    "I.  Update CMC info from the API\n",
    "----------------------------------------------\n",
    " 1. get top 200 info from CMC\n",
    "         [CMC_id, name, rank, ticker, Source_code]\n",
    " 2. get top 200 website info\n",
    "         [primary_web, secondary_web]\n",
    " 3. merge the two dataframes as 'dfnew'\n",
    " 4. write 'cmc_top_200.csv'\n",
    "----------------------------------------------\n",
    "II. Merge with manually updated Source Code info\n",
    "----------------------------------------------\n",
    " 4. read 'cmc_data_200_man.csv'\n",
    " 5. merge together new ['Source_code'] with \n",
    "    manually updated ['source_code']\n",
    " 6. write 'cmc_data_200_man_update.csv'\n",
    " 7. <future work> check for duplicates?\n",
    "----------------------------------------------\n",
    "III. Send to prepare_repos.py to get forge & repo\n",
    "---------------------------------------------- \n",
    "\"\"\""
   ]
  },
  {
   "cell_type": "code",
   "execution_count": 1,
   "metadata": {},
   "outputs": [],
   "source": [
    "# This script will contact CoinMarketCap's API to gather info about cryptocurrency projects\n",
    "# \n",
    "# It will merge two calls to create a dataframe/csv listing project's:\n",
    "#  <id>, <rank>, <ticker>, <name>, & <source code location>\n",
    "# \n",
    "# You must have a coinmarketcap dev key to use their API\n",
    "#\n",
    "import pandas as pd \n",
    "from requests import Request, Session\n",
    "from requests.exceptions import ConnectionError, Timeout, TooManyRedirects\n",
    "import json"
   ]
  },
  {
   "cell_type": "code",
   "execution_count": 2,
   "metadata": {
    "id": "7qzFLaflIT3I"
   },
   "outputs": [],
   "source": [
    "# listing of top 200 (per 1 credit) by market cap\n",
    "# default sort is by market cap\n",
    "# see: https://coinmarketcap.com/api/documentation/v1/#operation/getV1CryptocurrencyListingsLatest\n",
    "# this will fetch 200 at a time\n",
    "url = 'https://pro-api.coinmarketcap.com/v1/cryptocurrency/listings/latest'\n",
    "parameters = {\n",
    "    'start':'1',\n",
    "    'limit':'200',\n",
    "    'convert':'USD'\n",
    "}\n",
    "headers = {\n",
    "    'Accepts': 'application/json',\n",
    "    'X-CMC_PRO_API_KEY': 'xxx',\n",
    "}\n",
    "\n",
    "session = Session()\n",
    "session.headers.update(headers)\n",
    "\n",
    "try:\n",
    "    response = session.get(url, params=parameters)\n",
    "    data_listing = json.loads(response.text)\n",
    "except (ConnectionError, Timeout, TooManyRedirects) as e:\n",
    "    print(e)"
   ]
  },
  {
   "cell_type": "code",
   "execution_count": 3,
   "metadata": {
    "id": "IR4fsSwsivp3"
   },
   "outputs": [],
   "source": [
    "# extract data fields; could be more efficient\n",
    "# access CMC_ID field \n",
    "# access NAME field \n",
    "# access SYMBOL (ticker) field \n",
    "# access RANK field \n",
    "cmc_id = []\n",
    "name = []\n",
    "ticker = []\n",
    "cmc_rank = []\n",
    "for project in data_listing['data']:\n",
    "    cmc_id.append(project['id'])  \n",
    "    name.append(project['name'])\n",
    "    ticker.append(project['symbol'])\n",
    "    cmc_rank.append(project['cmc_rank'])"
   ]
  },
  {
   "cell_type": "code",
   "execution_count": 4,
   "metadata": {
    "colab": {
     "base_uri": "https://localhost:8080/"
    },
    "id": "sBTtD4t0yrgy",
    "outputId": "29c05aae-964e-4850-c73d-f26c1de6d2fe"
   },
   "outputs": [],
   "source": [
    "# create a string of IDs to pass to the API\n",
    "IDString = ''\n",
    "for id in cmc_id:\n",
    "    IDString = IDString + str(id) +','\n",
    "IDString = IDString[:-1]\n",
    "#print(IDString)\n",
    "\n",
    "#testIDString=''\n",
    "#for id in testID:\n",
    "#    testIDString = testIDString + str(id) +','\n",
    "#testIDString = testIDString[:-1]\n",
    "#print(testIDString)"
   ]
  },
  {
   "cell_type": "code",
   "execution_count": 5,
   "metadata": {
    "id": "mIwk3rL8cTWQ"
   },
   "outputs": [],
   "source": [
    "# get JSON listing of metadata\n",
    "# see: https://coinmarketcap.com/api/documentation/v1/#operation/getV2CryptocurrencyInfo\n",
    "# 1 credit per 100 cryptocurrencies (rounded up)\n",
    "# pass a string of IDs, slugs, or symbols (tickers)\n",
    "url = 'https://pro-api.coinmarketcap.com/v2/cryptocurrency/info'\n",
    "parameters = {\n",
    "    'id':IDString,\n",
    "}\n",
    "headers = {\n",
    "    'Accepts': 'application/json',\n",
    "    'X-CMC_PRO_API_KEY': 'xxx',\n",
    "}\n",
    "session = Session()\n",
    "session.headers.update(headers)\n",
    "\n",
    "try:\n",
    "    response = session.get(url, params=parameters)\n",
    "    metadata = json.loads(response.text)\n",
    "except (ConnectionError, Timeout, TooManyRedirects) as e:\n",
    "    print(e)\n"
   ]
  },
  {
   "cell_type": "code",
   "execution_count": 6,
   "metadata": {
    "id": "Ma-9gOoyfYrV"
   },
   "outputs": [],
   "source": [
    "# ----S O U R C E   C O D E-------------------------------\n",
    "# access date::<key>::urls::sourcecode field\n",
    "# json order is not preserved so build an array containing:\n",
    "# [ [id, sourcecode], [id,sourcecode],...,[id,sourcecode]]\n",
    "# where id is CMC unique id\n",
    "source = []\n",
    "for project in metadata['data']:\n",
    "    id = project\n",
    "    sc = metadata['data'][id]['urls']['source_code']\n",
    "    # turn the sc list into a string and trim the ['']\n",
    "    element = [id,str(sc)[2:-2]]\n",
    "    source.append(element)\n",
    "\n",
    "# create dataframe from this list so it can be merged \n",
    "dfsource = pd.DataFrame(data=source,columns=['CMC_id','Source_code'])"
   ]
  },
  {
   "cell_type": "code",
   "execution_count": 7,
   "metadata": {
    "id": "bHcI3M8qNKnt"
   },
   "outputs": [],
   "source": [
    "df = pd.DataFrame({'CMC_id':cmc_id}) \n",
    "# add columns, probably a more elegant way to do this\n",
    "df['CMC_rank'] = cmc_rank\n",
    "df['name'] = name\n",
    "df['ticker'] = ticker\n",
    "\n",
    "# DF is an INT type and DFSOURCE is a STRING type, cast df as string to merge\n",
    "# df.astype(str)\n",
    "dfout = pd.merge(df.astype(str),dfsource, on=['CMC_id'])\n"
   ]
  },
  {
   "cell_type": "code",
   "execution_count": 8,
   "metadata": {
    "colab": {
     "base_uri": "https://localhost:8080/"
    },
    "id": "drVqWLZfd6z-",
    "outputId": "843dfd6f-d488-4db9-9c49-9189beb4e337"
   },
   "outputs": [
    {
     "data": {
      "text/plain": [
       "\"\\nmust authenticate first with google drive\\nfrom google.colab import drive\\ndrive.mount('drive')\\n\""
      ]
     },
     "execution_count": 8,
     "metadata": {},
     "output_type": "execute_result"
    }
   ],
   "source": [
    "# write to a CSV for doing other stuffs\n",
    "# if using COLAB \n",
    "'''\n",
    "must authenticate first with google drive\n",
    "from google.colab import drive\n",
    "drive.mount('drive')\n",
    "'''"
   ]
  },
  {
   "cell_type": "code",
   "execution_count": 9,
   "metadata": {
    "id": "_i9OeDxbgw0p"
   },
   "outputs": [],
   "source": [
    "# write the dataframe to CSV and copy to drive/directory\n",
    "# >dfout.to_csv('CMCdata.csv', sep='\\t', encoding='utf-8')\n",
    "# >!cp CMCdata.csv \"drive/My Drive/PhDstuffs\""
   ]
  },
  {
   "cell_type": "code",
   "execution_count": 10,
   "metadata": {},
   "outputs": [],
   "source": [
    "# ----W E B S I T E--------------------------------------\n",
    "# access date::<key>::urls::sourcecode field\n",
    "# json order is not preserved so build an array containing:\n",
    "# [ [id, website],...,[id, website]]\n",
    "# where id is CMC unique id\n",
    "site = []\n",
    "for project in metadata['data']:\n",
    "    id = project\n",
    "    web = metadata['data'][id]['urls']['website']\n",
    "    # turn the list into a string and trim the ['']\n",
    "    #print(sc)\n",
    "    element = [id,str(web)[1:-1]]\n",
    "    site.append(element)\n",
    "\n",
    "# create dataframe from this list so it can be merged \n",
    "dfweb = pd.DataFrame(data = site, columns = ['CMC_id','website'])"
   ]
  },
  {
   "cell_type": "code",
   "execution_count": 11,
   "metadata": {},
   "outputs": [],
   "source": [
    "# some listings have muliple sites\n",
    "# split into primary and secondary sites\n",
    "# first instance is web_primary\n",
    "# if second is web_secondary\n",
    "dfweb = pd.concat([dfweb[['CMC_id']], dfweb['website'].str.split(', ', expand=True)], axis=1)\n",
    "dfweb.rename(columns = {0:'web_primary',1:'web_secondary'}, inplace = True)\n",
    "# remove single quotes\n",
    "dfweb['web_primary'].replace(\"[\\']\", \"\", inplace=True, regex=True)\n",
    "dfweb['web_secondary'].replace(\"[\\']\", \"\", inplace=True, regex=True)"
   ]
  },
  {
   "cell_type": "code",
   "execution_count": 12,
   "metadata": {},
   "outputs": [],
   "source": [
    "# output to '200_websites.csv'; key is 'CMC_id'\n",
    "dfweb.to_csv('200_websites.csv', encoding='utf-8', index=False)"
   ]
  },
  {
   "cell_type": "code",
   "execution_count": 13,
   "metadata": {},
   "outputs": [],
   "source": [
    "# Read in cmc_data_200_man.csv if not running notebook from beginning\n",
    "#dfman = pd.read_csv('cmc_data_200_man.csv')\n",
    "# Read in 200_websites.csv if not running notebook from beginning\n",
    "#dfweb = pd.read_csv('200_websites.csv', index_col=0)"
   ]
  },
  {
   "cell_type": "code",
   "execution_count": 14,
   "metadata": {},
   "outputs": [],
   "source": [
    "#dfout=pd.merge(df.astype(str),dfsource, on=['CMC_id'])\n",
    "dfnew = pd.merge(dfout,dfweb, on=['CMC_id'], how = 'outer')"
   ]
  },
  {
   "cell_type": "code",
   "execution_count": 15,
   "metadata": {},
   "outputs": [],
   "source": [
    "# output to 'cmc_top_200.csv'; key is 'CMC_id'\n",
    "dfnew.to_csv('cmc_top_200.csv', encoding='utf-8', index=False)"
   ]
  },
  {
   "cell_type": "code",
   "execution_count": 16,
   "metadata": {},
   "outputs": [],
   "source": [
    "# update the types; makes for easier comparison\n",
    "dfnew['CMC_id'] = dfnew['CMC_id'].astype('int')\n",
    "dfnew['CMC_rank'] = dfnew['CMC_rank'].astype('int')\n",
    "#dfnew.info()"
   ]
  },
  {
   "cell_type": "code",
   "execution_count": 17,
   "metadata": {},
   "outputs": [],
   "source": [
    "dfman = pd.read_csv('cmc_data_200_man.csv')\n",
    "dfman.drop(['CMC_rank'], axis = 1, inplace = True)"
   ]
  },
  {
   "cell_type": "code",
   "execution_count": 21,
   "metadata": {},
   "outputs": [],
   "source": [
    "# merge the two together; keep common columns\n",
    "dfm = pd.merge(dfnew,dfman, on = ['CMC_id','name','ticker','web_primary','web_secondary'], how = 'outer')"
   ]
  },
  {
   "cell_type": "code",
   "execution_count": 23,
   "metadata": {},
   "outputs": [],
   "source": [
    "# update source_code (lowercase)\n",
    "for row in dfm.itertuples():\n",
    "    if row.check_source != 'y':\n",
    "        \n",
    "        # copy new repo location to 'source_code'\n",
    "        dfm.at[row.Index, 'source_code'] = row.Source_code\n",
    "        \n",
    "        # update the 'check_source' entry for manual verification\n",
    "        dfm.at[row.Index, 'check_source'] = 'n'"
   ]
  },
  {
   "cell_type": "code",
   "execution_count": 24,
   "metadata": {},
   "outputs": [],
   "source": [
    "dfm.drop(['Source_code'], axis = 1, inplace = True)"
   ]
  },
  {
   "cell_type": "code",
   "execution_count": 25,
   "metadata": {},
   "outputs": [],
   "source": [
    "# output to 'cmc_data_200_man_update.csv';\n",
    "dfm.to_csv('cmc_data_200_man_update.csv', encoding='utf-8', index=False)"
   ]
  }
 ],
 "metadata": {
  "colab": {
   "collapsed_sections": [],
   "name": "CMC_API.ipynb",
   "provenance": []
  },
  "kernelspec": {
   "display_name": "Python 3",
   "language": "python",
   "name": "python3"
  },
  "language_info": {
   "codemirror_mode": {
    "name": "ipython",
    "version": 3
   },
   "file_extension": ".py",
   "mimetype": "text/x-python",
   "name": "python",
   "nbconvert_exporter": "python",
   "pygments_lexer": "ipython3",
   "version": "3.8.5"
  }
 },
 "nbformat": 4,
 "nbformat_minor": 1
}
