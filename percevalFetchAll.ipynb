{
 "cells": [
  {
   "cell_type": "code",
   "execution_count": null,
   "metadata": {
    "id": "eV5ol_4zO_8W"
   },
   "outputs": [],
   "source": [
    "# NOTES\n",
    "# if not running in local dev environment (perceval_venv / health-env):\n",
    "#\n",
    "# Install a pip package in the current Jupyter kernel\n",
    "# >import sys\n",
    "# >!{sys.executable} -m pip install grimoirelab\n",
    "#\n",
    "# Command line usage: \n",
    "# >!pip3 install grimoirelab\n",
    "# >!perceval git 'https://github.com/bitcoin/bitcoin.git' --from-date '2021-07-14'\n",
    "#\n",
    "# web tutorial: https://chaoss.github.io/grimoirelab-tutorial/perceval/git.html\n",
    "# perceval docs: https://perceval.readthedocs.io/en/latest/"
   ]
  },
  {
   "cell_type": "code",
   "execution_count": null,
   "metadata": {
    "id": "ADNijzZ2HVH-"
   },
   "outputs": [],
   "source": [
    "from perceval.backends.core.git import Git\n",
    "from datetime import datetime\n",
    "import dateutil.rrule\n",
    "import dateutil.tz\n",
    "import pandas as pd\n",
    "import numpy as np\n",
    "import matplotlib.pyplot as plt\n",
    "from matplotlib.ticker import StrMethodFormatter\n",
    "import seaborn as sns\n",
    "import time\n",
    "import csv\n",
    "\n",
    "# file I/O for running a colab notebook\n",
    "#from google.colab import files"
   ]
  },
  {
   "cell_type": "code",
   "execution_count": 6,
   "metadata": {},
   "outputs": [],
   "source": [
    "def fetchTimeZonesArray(repoURL, repoName, from_Date, to_Date):\n",
    "    # directory for letting Perceval clone the git repo\n",
    "    # must be unique for the repo because it is reused\n",
    "    # Date format is 'YYYY,MM,DD'\n",
    "    dir_string = '/tmp/'+repoName+'.git'\n",
    "    repo_dir = dir_string\n",
    "\n",
    "    # create a Git object, pointing to repo_url: the github repo path\n",
    "    # and repo_dir: the local path for cloning\n",
    "    repo_object = Git(uri = repoURL, gitpath = repo_dir)\n",
    "    count = 0\n",
    "    noTZ = 0\n",
    "    # timeData array(list) has 1 position for each timezone\n",
    "    timeData = [0] * 24\n",
    "    #res = 0\n",
    "    for commit in repo_object.fetch(from_date = from_Date, to_date = to_Date):\n",
    "        # handy for storing all data\n",
    "        #rawData.append(commit)\n",
    "        count += 1\n",
    "        # commit date is a string\n",
    "        time = commit['data']['CommitDate']\n",
    "        \n",
    "        # this is now an aware date object and can be universally sequenced\n",
    "        dateTimeObject = datetime.strptime(' '.join(time.split(' ')), '%a %b %d %H:%M:%S %Y %z')\n",
    "        \n",
    "        # convert to an offset in hours\n",
    "        offset = dateTimeObject.utcoffset().seconds // 3600\n",
    "        \n",
    "        # Write the info to a file\n",
    "        #with open(\"logfile.txt\", \"a\") as f:\n",
    "        #    f.write(f\"Commit date: {time}, UTC offset: {offset}\\n\")\n",
    "        \n",
    "        # NZ is UTC+12 (ahead); +13 is also -11 geographically, or 13-24=-11 \n",
    "        # due to polar plotting all >12 shifted by -24, so:\n",
    "        # +12 -> -12: e.g NZ; +13/-11 during NZDT daylight savings\n",
    "        # +13 -> -11: Tokelau, Samoa, Tonga (Midway, Niue are already -11)\n",
    "        # +14 -> -10: Christmas Island, Kiwibati  \n",
    "        # half & quarter-hour offsets are taken as the floor, e.g. India (+5.5) -> +5\n",
    "        if offset > 11:\n",
    "            offset = offset - 24\n",
    "        \n",
    "        # increment timeData[offset] counter\n",
    "        timeData[offset+12] += 1\n",
    "        \n",
    "        if count % 1000 == 0:\n",
    "            print('.', end='')\n",
    "        \n",
    "    # stats\n",
    "    if count > 0: percentage = (noTZ/count)*100\n",
    "    else: percentage = 0\n",
    "    # maybe later write these to the header\n",
    "    # >check that 0.5 timezone offsets get binned\n",
    "    print('finished fetching data from:', repoName)\n",
    "    #print('total commits counted:', count)\n",
    "    if noTZ != 0: print('number with null timezone:', noTZ, '(', round(percentage, 1),'%)')\n",
    "\n",
    "    # return the list of timezone offsets\n",
    "    return timeData\n",
    "    #return rawData"
   ]
  },
  {
   "cell_type": "code",
   "execution_count": null,
   "metadata": {},
   "outputs": [],
   "source": [
    "repos = pd.read_csv('merged.csv')"
   ]
  },
  {
   "cell_type": "code",
   "execution_count": 7,
   "metadata": {},
   "outputs": [],
   "source": [
    "repos5 = repos[:15].copy()"
   ]
  },
  {
   "cell_type": "code",
   "execution_count": null,
   "metadata": {
    "colab": {
     "base_uri": "https://localhost:8080/",
     "height": 1000
    },
    "id": "1uKIcq8DxgWR",
    "outputId": "7dae478c-5aa6-4734-a823-8eecb36006b9"
   },
   "outputs": [],
   "source": [
    "# collect 6 months up to date of final GHTorrent download (March 26, 2022)\n",
    "fromDate = datetime(2021, 9, 25) # from is inclusive\n",
    "toDate = datetime(2022, 3, 26)  # to is exclusive\n",
    "    \n",
    "# cumulative main loop\n",
    "# make a default df\n",
    "allData = pd.DataFrame()\n",
    "#total = pd.DataFrame()\n",
    "count = 0\n",
    "\n",
    "for index, row in repos5.iterrows():\n",
    "    # terminal logging\n",
    "    count += 1\n",
    "    repoName = row['name']\n",
    "    print('>> Repo #',count, repoName)\n",
    "    repoURL = row['url']\n",
    "    \n",
    "    if (repoURL != 'private') and (repoURL != 'exclude') and (not pd.isna(repoURL)):\n",
    "\n",
    "        try:\n",
    "            data = fetchTimeZonesArray(repoURL, repoName, fromDate, toDate) \n",
    "\n",
    "            # concatenate data\n",
    "            df = pd.DataFrame(data)\n",
    "            #total = total.append(df, ignore_index = True)\n",
    "            df.columns = [repoURL]\n",
    "            allData = pd.concat([allData, df], axis=1)\n",
    "\n",
    "        except Exception as e:\n",
    "            print(f\"An error occurred while fetching the repository {repoURL}. Error: {e}\")\n",
    "            # You can also log the error message to a log file\n",
    "            # logger.error(f\"An error occurred while fetching the repository {repoURL}. Error: {e}\")\n",
    "            data = None"
   ]
  },
  {
   "cell_type": "code",
   "execution_count": null,
   "metadata": {},
   "outputs": [],
   "source": [
    "allData.info()"
   ]
  },
  {
   "cell_type": "code",
   "execution_count": null,
   "metadata": {},
   "outputs": [],
   "source": [
    "allData.to_csv(\"allData600.csv\",index=False)"
   ]
  }
 ],
 "metadata": {
  "colab": {
   "collapsed_sections": [],
   "history_visible": true,
   "name": "perceval.ipynb",
   "provenance": []
  },
  "kernelspec": {
   "display_name": "health-env",
   "language": "python",
   "name": "health-env"
  },
  "language_info": {
   "codemirror_mode": {
    "name": "ipython",
    "version": 3
   },
   "file_extension": ".py",
   "mimetype": "text/x-python",
   "name": "python",
   "nbconvert_exporter": "python",
   "pygments_lexer": "ipython3",
   "version": "3.8.12"
  }
 },
 "nbformat": 4,
 "nbformat_minor": 4
}
